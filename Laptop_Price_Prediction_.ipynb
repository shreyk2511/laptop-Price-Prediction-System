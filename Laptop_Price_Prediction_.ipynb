{
  "nbformat": 4,
  "nbformat_minor": 0,
  "metadata": {
    "colab": {
      "provenance": []
    },
    "kernelspec": {
      "name": "python3",
      "display_name": "Python 3"
    },
    "language_info": {
      "name": "python"
    }
  },
  "cells": [
    {
      "cell_type": "code",
      "execution_count": 486,
      "metadata": {
        "id": "szBmtXHk5ORq"
      },
      "outputs": [],
      "source": [
        "import numpy as np\n",
        "import pandas as pd\n",
        "import re\n",
        "import seaborn as sns\n",
        "import matplotlib.pyplot as plt\n"
      ]
    },
    {
      "cell_type": "code",
      "source": [
        "data = pd.read_csv(\"amazon_data2.csv\")\n",
        "data.head()"
      ],
      "metadata": {
        "colab": {
          "base_uri": "https://localhost:8080/",
          "height": 206
        },
        "id": "De5FQ_Mu5bMl",
        "outputId": "6a3ab377-bd7f-4b89-fe13-39015dc24d54"
      },
      "execution_count": 487,
      "outputs": [
        {
          "output_type": "execute_result",
          "data": {
            "text/plain": [
              "    Brand           type      inches     cpu   ram harddisksize  \\\n",
              "0  Lenovo  IdeaPadGaming  15.6Inches  Ryzen5   8GB        512GB   \n",
              "1    Acer        Extensa  15.6Inches  Corei3   8GB          NaN   \n",
              "2  Lenovo        IdeaPad  15.6Inches  Corei5  16GB          NaN   \n",
              "3      HP            NaN    14Inches  Corei3   8GB        256GB   \n",
              "4  Lenovo        IdeaPad  15.6Inches  Corei3   8GB          NaN   \n",
              "\n",
              "                   gpu operatingsys      price  \n",
              "0                  NaN    Windows11  51,990.00  \n",
              "1     IntelUHDGraphics    Windows11  32,990.00  \n",
              "2  IntelIrisXeGraphics    Windows11  60,990.00  \n",
              "3                  NaN    Windows11  36,990.00  \n",
              "4     IntelUHDGraphics    Windows11  33,446.00  "
            ],
            "text/html": [
              "\n",
              "  <div id=\"df-26b7027f-39c1-4167-971c-ac854dc9e902\">\n",
              "    <div class=\"colab-df-container\">\n",
              "      <div>\n",
              "<style scoped>\n",
              "    .dataframe tbody tr th:only-of-type {\n",
              "        vertical-align: middle;\n",
              "    }\n",
              "\n",
              "    .dataframe tbody tr th {\n",
              "        vertical-align: top;\n",
              "    }\n",
              "\n",
              "    .dataframe thead th {\n",
              "        text-align: right;\n",
              "    }\n",
              "</style>\n",
              "<table border=\"1\" class=\"dataframe\">\n",
              "  <thead>\n",
              "    <tr style=\"text-align: right;\">\n",
              "      <th></th>\n",
              "      <th>Brand</th>\n",
              "      <th>type</th>\n",
              "      <th>inches</th>\n",
              "      <th>cpu</th>\n",
              "      <th>ram</th>\n",
              "      <th>harddisksize</th>\n",
              "      <th>gpu</th>\n",
              "      <th>operatingsys</th>\n",
              "      <th>price</th>\n",
              "    </tr>\n",
              "  </thead>\n",
              "  <tbody>\n",
              "    <tr>\n",
              "      <th>0</th>\n",
              "      <td>Lenovo</td>\n",
              "      <td>IdeaPadGaming</td>\n",
              "      <td>15.6Inches</td>\n",
              "      <td>Ryzen5</td>\n",
              "      <td>8GB</td>\n",
              "      <td>512GB</td>\n",
              "      <td>NaN</td>\n",
              "      <td>Windows11</td>\n",
              "      <td>51,990.00</td>\n",
              "    </tr>\n",
              "    <tr>\n",
              "      <th>1</th>\n",
              "      <td>Acer</td>\n",
              "      <td>Extensa</td>\n",
              "      <td>15.6Inches</td>\n",
              "      <td>Corei3</td>\n",
              "      <td>8GB</td>\n",
              "      <td>NaN</td>\n",
              "      <td>IntelUHDGraphics</td>\n",
              "      <td>Windows11</td>\n",
              "      <td>32,990.00</td>\n",
              "    </tr>\n",
              "    <tr>\n",
              "      <th>2</th>\n",
              "      <td>Lenovo</td>\n",
              "      <td>IdeaPad</td>\n",
              "      <td>15.6Inches</td>\n",
              "      <td>Corei5</td>\n",
              "      <td>16GB</td>\n",
              "      <td>NaN</td>\n",
              "      <td>IntelIrisXeGraphics</td>\n",
              "      <td>Windows11</td>\n",
              "      <td>60,990.00</td>\n",
              "    </tr>\n",
              "    <tr>\n",
              "      <th>3</th>\n",
              "      <td>HP</td>\n",
              "      <td>NaN</td>\n",
              "      <td>14Inches</td>\n",
              "      <td>Corei3</td>\n",
              "      <td>8GB</td>\n",
              "      <td>256GB</td>\n",
              "      <td>NaN</td>\n",
              "      <td>Windows11</td>\n",
              "      <td>36,990.00</td>\n",
              "    </tr>\n",
              "    <tr>\n",
              "      <th>4</th>\n",
              "      <td>Lenovo</td>\n",
              "      <td>IdeaPad</td>\n",
              "      <td>15.6Inches</td>\n",
              "      <td>Corei3</td>\n",
              "      <td>8GB</td>\n",
              "      <td>NaN</td>\n",
              "      <td>IntelUHDGraphics</td>\n",
              "      <td>Windows11</td>\n",
              "      <td>33,446.00</td>\n",
              "    </tr>\n",
              "  </tbody>\n",
              "</table>\n",
              "</div>\n",
              "      <button class=\"colab-df-convert\" onclick=\"convertToInteractive('df-26b7027f-39c1-4167-971c-ac854dc9e902')\"\n",
              "              title=\"Convert this dataframe to an interactive table.\"\n",
              "              style=\"display:none;\">\n",
              "        \n",
              "  <svg xmlns=\"http://www.w3.org/2000/svg\" height=\"24px\"viewBox=\"0 0 24 24\"\n",
              "       width=\"24px\">\n",
              "    <path d=\"M0 0h24v24H0V0z\" fill=\"none\"/>\n",
              "    <path d=\"M18.56 5.44l.94 2.06.94-2.06 2.06-.94-2.06-.94-.94-2.06-.94 2.06-2.06.94zm-11 1L8.5 8.5l.94-2.06 2.06-.94-2.06-.94L8.5 2.5l-.94 2.06-2.06.94zm10 10l.94 2.06.94-2.06 2.06-.94-2.06-.94-.94-2.06-.94 2.06-2.06.94z\"/><path d=\"M17.41 7.96l-1.37-1.37c-.4-.4-.92-.59-1.43-.59-.52 0-1.04.2-1.43.59L10.3 9.45l-7.72 7.72c-.78.78-.78 2.05 0 2.83L4 21.41c.39.39.9.59 1.41.59.51 0 1.02-.2 1.41-.59l7.78-7.78 2.81-2.81c.8-.78.8-2.07 0-2.86zM5.41 20L4 18.59l7.72-7.72 1.47 1.35L5.41 20z\"/>\n",
              "  </svg>\n",
              "      </button>\n",
              "      \n",
              "  <style>\n",
              "    .colab-df-container {\n",
              "      display:flex;\n",
              "      flex-wrap:wrap;\n",
              "      gap: 12px;\n",
              "    }\n",
              "\n",
              "    .colab-df-convert {\n",
              "      background-color: #E8F0FE;\n",
              "      border: none;\n",
              "      border-radius: 50%;\n",
              "      cursor: pointer;\n",
              "      display: none;\n",
              "      fill: #1967D2;\n",
              "      height: 32px;\n",
              "      padding: 0 0 0 0;\n",
              "      width: 32px;\n",
              "    }\n",
              "\n",
              "    .colab-df-convert:hover {\n",
              "      background-color: #E2EBFA;\n",
              "      box-shadow: 0px 1px 2px rgba(60, 64, 67, 0.3), 0px 1px 3px 1px rgba(60, 64, 67, 0.15);\n",
              "      fill: #174EA6;\n",
              "    }\n",
              "\n",
              "    [theme=dark] .colab-df-convert {\n",
              "      background-color: #3B4455;\n",
              "      fill: #D2E3FC;\n",
              "    }\n",
              "\n",
              "    [theme=dark] .colab-df-convert:hover {\n",
              "      background-color: #434B5C;\n",
              "      box-shadow: 0px 1px 3px 1px rgba(0, 0, 0, 0.15);\n",
              "      filter: drop-shadow(0px 1px 2px rgba(0, 0, 0, 0.3));\n",
              "      fill: #FFFFFF;\n",
              "    }\n",
              "  </style>\n",
              "\n",
              "      <script>\n",
              "        const buttonEl =\n",
              "          document.querySelector('#df-26b7027f-39c1-4167-971c-ac854dc9e902 button.colab-df-convert');\n",
              "        buttonEl.style.display =\n",
              "          google.colab.kernel.accessAllowed ? 'block' : 'none';\n",
              "\n",
              "        async function convertToInteractive(key) {\n",
              "          const element = document.querySelector('#df-26b7027f-39c1-4167-971c-ac854dc9e902');\n",
              "          const dataTable =\n",
              "            await google.colab.kernel.invokeFunction('convertToInteractive',\n",
              "                                                     [key], {});\n",
              "          if (!dataTable) return;\n",
              "\n",
              "          const docLinkHtml = 'Like what you see? Visit the ' +\n",
              "            '<a target=\"_blank\" href=https://colab.research.google.com/notebooks/data_table.ipynb>data table notebook</a>'\n",
              "            + ' to learn more about interactive tables.';\n",
              "          element.innerHTML = '';\n",
              "          dataTable['output_type'] = 'display_data';\n",
              "          await google.colab.output.renderOutput(dataTable, element);\n",
              "          const docLink = document.createElement('div');\n",
              "          docLink.innerHTML = docLinkHtml;\n",
              "          element.appendChild(docLink);\n",
              "        }\n",
              "      </script>\n",
              "    </div>\n",
              "  </div>\n",
              "  "
            ]
          },
          "metadata": {},
          "execution_count": 487
        }
      ]
    },
    {
      "cell_type": "code",
      "source": [
        "data.info()"
      ],
      "metadata": {
        "colab": {
          "base_uri": "https://localhost:8080/"
        },
        "id": "JY-HcQuW5iVZ",
        "outputId": "d400b9a5-6401-4b1f-ab78-629b2423ea4d"
      },
      "execution_count": 488,
      "outputs": [
        {
          "output_type": "stream",
          "name": "stdout",
          "text": [
            "<class 'pandas.core.frame.DataFrame'>\n",
            "RangeIndex: 785 entries, 0 to 784\n",
            "Data columns (total 9 columns):\n",
            " #   Column        Non-Null Count  Dtype \n",
            "---  ------        --------------  ----- \n",
            " 0   Brand         785 non-null    object\n",
            " 1   type          546 non-null    object\n",
            " 2   inches        769 non-null    object\n",
            " 3   cpu           689 non-null    object\n",
            " 4   ram           749 non-null    object\n",
            " 5   harddisksize  450 non-null    object\n",
            " 6   gpu           402 non-null    object\n",
            " 7   operatingsys  767 non-null    object\n",
            " 8   price         769 non-null    object\n",
            "dtypes: object(9)\n",
            "memory usage: 55.3+ KB\n"
          ]
        }
      ]
    },
    {
      "cell_type": "code",
      "source": [
        "data.duplicated().sum()"
      ],
      "metadata": {
        "colab": {
          "base_uri": "https://localhost:8080/"
        },
        "id": "833T6Y_F5ry2",
        "outputId": "b919f008-f430-4017-f2e8-8b57e5525541"
      },
      "execution_count": 489,
      "outputs": [
        {
          "output_type": "execute_result",
          "data": {
            "text/plain": [
              "145"
            ]
          },
          "metadata": {},
          "execution_count": 489
        }
      ]
    },
    {
      "cell_type": "code",
      "source": [
        "data=data.drop_duplicates()"
      ],
      "metadata": {
        "id": "0p5YZr2x53PJ"
      },
      "execution_count": 490,
      "outputs": []
    },
    {
      "cell_type": "code",
      "source": [
        "data.isnull().sum()"
      ],
      "metadata": {
        "colab": {
          "base_uri": "https://localhost:8080/"
        },
        "id": "O17Fi7C16Jtf",
        "outputId": "6d8f4560-03b0-4da0-e0d7-65885e720797"
      },
      "execution_count": 491,
      "outputs": [
        {
          "output_type": "execute_result",
          "data": {
            "text/plain": [
              "Brand             0\n",
              "type            231\n",
              "inches           13\n",
              "cpu              93\n",
              "ram              33\n",
              "harddisksize    227\n",
              "gpu             329\n",
              "operatingsys     15\n",
              "price            16\n",
              "dtype: int64"
            ]
          },
          "metadata": {},
          "execution_count": 491
        }
      ]
    },
    {
      "cell_type": "code",
      "source": [
        "data=data.fillna(0)\n"
      ],
      "metadata": {
        "id": "KqMo_uih6U4M"
      },
      "execution_count": 492,
      "outputs": []
    },
    {
      "cell_type": "code",
      "source": [
        "data = data.groupby('Brand').filter(lambda x: len(x) >= 5)\n",
        "data['Brand'].value_counts()\n"
      ],
      "metadata": {
        "colab": {
          "base_uri": "https://localhost:8080/"
        },
        "id": "vuMQssxDPV_q",
        "outputId": "e6509a75-f125-4953-af82-5da34c221061"
      },
      "execution_count": 493,
      "outputs": [
        {
          "output_type": "execute_result",
          "data": {
            "text/plain": [
              "Lenovo    220\n",
              "HP        151\n",
              "ASUS      105\n",
              "Dell       68\n",
              "Acer       31\n",
              "MSI        17\n",
              "Apple       7\n",
              "MI          5\n",
              "AVITA       5\n",
              "Name: Brand, dtype: int64"
            ]
          },
          "metadata": {},
          "execution_count": 493
        }
      ]
    },
    {
      "cell_type": "code",
      "source": [
        "data['ram']=data['ram'].str.replace('GB','')\n",
        "data['inches']=data['inches'].str.replace('Inches','')\n",
        "data['inches']=data['inches'].str.replace('Centimetres','')\n",
        "data['harddisksize']=data['harddisksize'].str.replace('GB','')\n",
        "data['harddisksize']=data['harddisksize'].str.replace('TB','')\n",
        "data['price']=data['price'].str.replace(',','')\n",
        "data"
      ],
      "metadata": {
        "colab": {
          "base_uri": "https://localhost:8080/",
          "height": 423
        },
        "id": "MV6XTMc66iiH",
        "outputId": "5227c25c-9c0b-4a19-dbcc-ed78829312bd"
      },
      "execution_count": 494,
      "outputs": [
        {
          "output_type": "execute_result",
          "data": {
            "text/plain": [
              "      Brand           type inches          cpu  ram harddisksize  \\\n",
              "0    Lenovo  IdeaPadGaming   15.6       Ryzen5    8          512   \n",
              "1      Acer        Extensa   15.6       Corei3    8          NaN   \n",
              "2    Lenovo        IdeaPad   15.6       Corei5   16          NaN   \n",
              "3        HP              0     14       Corei3    8          256   \n",
              "4    Lenovo        IdeaPad   15.6       Corei3    8          NaN   \n",
              "..      ...            ...    ...          ...  ...          ...   \n",
              "780  Lenovo              0   15.6  Corei3-6100  256          256   \n",
              "781    ASUS              0   15.6    AMDRyzen7   16          512   \n",
              "782      HP             HP     14       Corei3  256          256   \n",
              "783  Lenovo       Thinkpad   13.3    AMDRyzen7    8          NaN   \n",
              "784    ASUS              0   15.6      ASeries  256          256   \n",
              "\n",
              "                      gpu  operatingsys      price  \n",
              "0                       0     Windows11   51990.00  \n",
              "1        IntelUHDGraphics     Windows11   32990.00  \n",
              "2     IntelIrisXeGraphics     Windows11   60990.00  \n",
              "3                       0     Windows11   36990.00  \n",
              "4        IntelUHDGraphics     Windows11   33446.00  \n",
              "..                    ...           ...        ...  \n",
              "780                     0     Windows10    1195.00  \n",
              "781  NVIDIAGeForceRTX2060     Windows10  133663.00  \n",
              "782    IntelHDGraphics620     Windows10   78105.00  \n",
              "783      AMDRadeonRXVega8  Windows10Pro  148918.00  \n",
              "784           AMDRadeonR7     Windows10        NaN  \n",
              "\n",
              "[609 rows x 9 columns]"
            ],
            "text/html": [
              "\n",
              "  <div id=\"df-a1d44cc7-84da-43e1-ba29-6158b165988e\">\n",
              "    <div class=\"colab-df-container\">\n",
              "      <div>\n",
              "<style scoped>\n",
              "    .dataframe tbody tr th:only-of-type {\n",
              "        vertical-align: middle;\n",
              "    }\n",
              "\n",
              "    .dataframe tbody tr th {\n",
              "        vertical-align: top;\n",
              "    }\n",
              "\n",
              "    .dataframe thead th {\n",
              "        text-align: right;\n",
              "    }\n",
              "</style>\n",
              "<table border=\"1\" class=\"dataframe\">\n",
              "  <thead>\n",
              "    <tr style=\"text-align: right;\">\n",
              "      <th></th>\n",
              "      <th>Brand</th>\n",
              "      <th>type</th>\n",
              "      <th>inches</th>\n",
              "      <th>cpu</th>\n",
              "      <th>ram</th>\n",
              "      <th>harddisksize</th>\n",
              "      <th>gpu</th>\n",
              "      <th>operatingsys</th>\n",
              "      <th>price</th>\n",
              "    </tr>\n",
              "  </thead>\n",
              "  <tbody>\n",
              "    <tr>\n",
              "      <th>0</th>\n",
              "      <td>Lenovo</td>\n",
              "      <td>IdeaPadGaming</td>\n",
              "      <td>15.6</td>\n",
              "      <td>Ryzen5</td>\n",
              "      <td>8</td>\n",
              "      <td>512</td>\n",
              "      <td>0</td>\n",
              "      <td>Windows11</td>\n",
              "      <td>51990.00</td>\n",
              "    </tr>\n",
              "    <tr>\n",
              "      <th>1</th>\n",
              "      <td>Acer</td>\n",
              "      <td>Extensa</td>\n",
              "      <td>15.6</td>\n",
              "      <td>Corei3</td>\n",
              "      <td>8</td>\n",
              "      <td>NaN</td>\n",
              "      <td>IntelUHDGraphics</td>\n",
              "      <td>Windows11</td>\n",
              "      <td>32990.00</td>\n",
              "    </tr>\n",
              "    <tr>\n",
              "      <th>2</th>\n",
              "      <td>Lenovo</td>\n",
              "      <td>IdeaPad</td>\n",
              "      <td>15.6</td>\n",
              "      <td>Corei5</td>\n",
              "      <td>16</td>\n",
              "      <td>NaN</td>\n",
              "      <td>IntelIrisXeGraphics</td>\n",
              "      <td>Windows11</td>\n",
              "      <td>60990.00</td>\n",
              "    </tr>\n",
              "    <tr>\n",
              "      <th>3</th>\n",
              "      <td>HP</td>\n",
              "      <td>0</td>\n",
              "      <td>14</td>\n",
              "      <td>Corei3</td>\n",
              "      <td>8</td>\n",
              "      <td>256</td>\n",
              "      <td>0</td>\n",
              "      <td>Windows11</td>\n",
              "      <td>36990.00</td>\n",
              "    </tr>\n",
              "    <tr>\n",
              "      <th>4</th>\n",
              "      <td>Lenovo</td>\n",
              "      <td>IdeaPad</td>\n",
              "      <td>15.6</td>\n",
              "      <td>Corei3</td>\n",
              "      <td>8</td>\n",
              "      <td>NaN</td>\n",
              "      <td>IntelUHDGraphics</td>\n",
              "      <td>Windows11</td>\n",
              "      <td>33446.00</td>\n",
              "    </tr>\n",
              "    <tr>\n",
              "      <th>...</th>\n",
              "      <td>...</td>\n",
              "      <td>...</td>\n",
              "      <td>...</td>\n",
              "      <td>...</td>\n",
              "      <td>...</td>\n",
              "      <td>...</td>\n",
              "      <td>...</td>\n",
              "      <td>...</td>\n",
              "      <td>...</td>\n",
              "    </tr>\n",
              "    <tr>\n",
              "      <th>780</th>\n",
              "      <td>Lenovo</td>\n",
              "      <td>0</td>\n",
              "      <td>15.6</td>\n",
              "      <td>Corei3-6100</td>\n",
              "      <td>256</td>\n",
              "      <td>256</td>\n",
              "      <td>0</td>\n",
              "      <td>Windows10</td>\n",
              "      <td>1195.00</td>\n",
              "    </tr>\n",
              "    <tr>\n",
              "      <th>781</th>\n",
              "      <td>ASUS</td>\n",
              "      <td>0</td>\n",
              "      <td>15.6</td>\n",
              "      <td>AMDRyzen7</td>\n",
              "      <td>16</td>\n",
              "      <td>512</td>\n",
              "      <td>NVIDIAGeForceRTX2060</td>\n",
              "      <td>Windows10</td>\n",
              "      <td>133663.00</td>\n",
              "    </tr>\n",
              "    <tr>\n",
              "      <th>782</th>\n",
              "      <td>HP</td>\n",
              "      <td>HP</td>\n",
              "      <td>14</td>\n",
              "      <td>Corei3</td>\n",
              "      <td>256</td>\n",
              "      <td>256</td>\n",
              "      <td>IntelHDGraphics620</td>\n",
              "      <td>Windows10</td>\n",
              "      <td>78105.00</td>\n",
              "    </tr>\n",
              "    <tr>\n",
              "      <th>783</th>\n",
              "      <td>Lenovo</td>\n",
              "      <td>Thinkpad</td>\n",
              "      <td>13.3</td>\n",
              "      <td>AMDRyzen7</td>\n",
              "      <td>8</td>\n",
              "      <td>NaN</td>\n",
              "      <td>AMDRadeonRXVega8</td>\n",
              "      <td>Windows10Pro</td>\n",
              "      <td>148918.00</td>\n",
              "    </tr>\n",
              "    <tr>\n",
              "      <th>784</th>\n",
              "      <td>ASUS</td>\n",
              "      <td>0</td>\n",
              "      <td>15.6</td>\n",
              "      <td>ASeries</td>\n",
              "      <td>256</td>\n",
              "      <td>256</td>\n",
              "      <td>AMDRadeonR7</td>\n",
              "      <td>Windows10</td>\n",
              "      <td>NaN</td>\n",
              "    </tr>\n",
              "  </tbody>\n",
              "</table>\n",
              "<p>609 rows × 9 columns</p>\n",
              "</div>\n",
              "      <button class=\"colab-df-convert\" onclick=\"convertToInteractive('df-a1d44cc7-84da-43e1-ba29-6158b165988e')\"\n",
              "              title=\"Convert this dataframe to an interactive table.\"\n",
              "              style=\"display:none;\">\n",
              "        \n",
              "  <svg xmlns=\"http://www.w3.org/2000/svg\" height=\"24px\"viewBox=\"0 0 24 24\"\n",
              "       width=\"24px\">\n",
              "    <path d=\"M0 0h24v24H0V0z\" fill=\"none\"/>\n",
              "    <path d=\"M18.56 5.44l.94 2.06.94-2.06 2.06-.94-2.06-.94-.94-2.06-.94 2.06-2.06.94zm-11 1L8.5 8.5l.94-2.06 2.06-.94-2.06-.94L8.5 2.5l-.94 2.06-2.06.94zm10 10l.94 2.06.94-2.06 2.06-.94-2.06-.94-.94-2.06-.94 2.06-2.06.94z\"/><path d=\"M17.41 7.96l-1.37-1.37c-.4-.4-.92-.59-1.43-.59-.52 0-1.04.2-1.43.59L10.3 9.45l-7.72 7.72c-.78.78-.78 2.05 0 2.83L4 21.41c.39.39.9.59 1.41.59.51 0 1.02-.2 1.41-.59l7.78-7.78 2.81-2.81c.8-.78.8-2.07 0-2.86zM5.41 20L4 18.59l7.72-7.72 1.47 1.35L5.41 20z\"/>\n",
              "  </svg>\n",
              "      </button>\n",
              "      \n",
              "  <style>\n",
              "    .colab-df-container {\n",
              "      display:flex;\n",
              "      flex-wrap:wrap;\n",
              "      gap: 12px;\n",
              "    }\n",
              "\n",
              "    .colab-df-convert {\n",
              "      background-color: #E8F0FE;\n",
              "      border: none;\n",
              "      border-radius: 50%;\n",
              "      cursor: pointer;\n",
              "      display: none;\n",
              "      fill: #1967D2;\n",
              "      height: 32px;\n",
              "      padding: 0 0 0 0;\n",
              "      width: 32px;\n",
              "    }\n",
              "\n",
              "    .colab-df-convert:hover {\n",
              "      background-color: #E2EBFA;\n",
              "      box-shadow: 0px 1px 2px rgba(60, 64, 67, 0.3), 0px 1px 3px 1px rgba(60, 64, 67, 0.15);\n",
              "      fill: #174EA6;\n",
              "    }\n",
              "\n",
              "    [theme=dark] .colab-df-convert {\n",
              "      background-color: #3B4455;\n",
              "      fill: #D2E3FC;\n",
              "    }\n",
              "\n",
              "    [theme=dark] .colab-df-convert:hover {\n",
              "      background-color: #434B5C;\n",
              "      box-shadow: 0px 1px 3px 1px rgba(0, 0, 0, 0.15);\n",
              "      filter: drop-shadow(0px 1px 2px rgba(0, 0, 0, 0.3));\n",
              "      fill: #FFFFFF;\n",
              "    }\n",
              "  </style>\n",
              "\n",
              "      <script>\n",
              "        const buttonEl =\n",
              "          document.querySelector('#df-a1d44cc7-84da-43e1-ba29-6158b165988e button.colab-df-convert');\n",
              "        buttonEl.style.display =\n",
              "          google.colab.kernel.accessAllowed ? 'block' : 'none';\n",
              "\n",
              "        async function convertToInteractive(key) {\n",
              "          const element = document.querySelector('#df-a1d44cc7-84da-43e1-ba29-6158b165988e');\n",
              "          const dataTable =\n",
              "            await google.colab.kernel.invokeFunction('convertToInteractive',\n",
              "                                                     [key], {});\n",
              "          if (!dataTable) return;\n",
              "\n",
              "          const docLinkHtml = 'Like what you see? Visit the ' +\n",
              "            '<a target=\"_blank\" href=https://colab.research.google.com/notebooks/data_table.ipynb>data table notebook</a>'\n",
              "            + ' to learn more about interactive tables.';\n",
              "          element.innerHTML = '';\n",
              "          dataTable['output_type'] = 'display_data';\n",
              "          await google.colab.output.renderOutput(dataTable, element);\n",
              "          const docLink = document.createElement('div');\n",
              "          docLink.innerHTML = docLinkHtml;\n",
              "          element.appendChild(docLink);\n",
              "        }\n",
              "      </script>\n",
              "    </div>\n",
              "  </div>\n",
              "  "
            ]
          },
          "metadata": {},
          "execution_count": 494
        }
      ]
    },
    {
      "cell_type": "code",
      "source": [
        "data['harddisksize'].fillna(0, inplace=True)\n",
        "data"
      ],
      "metadata": {
        "colab": {
          "base_uri": "https://localhost:8080/",
          "height": 423
        },
        "id": "d8W6fbCB_g7_",
        "outputId": "3e31caf5-b856-4a8c-ec4a-d1dc80ebf40c"
      },
      "execution_count": 495,
      "outputs": [
        {
          "output_type": "execute_result",
          "data": {
            "text/plain": [
              "      Brand           type inches          cpu  ram harddisksize  \\\n",
              "0    Lenovo  IdeaPadGaming   15.6       Ryzen5    8          512   \n",
              "1      Acer        Extensa   15.6       Corei3    8            0   \n",
              "2    Lenovo        IdeaPad   15.6       Corei5   16            0   \n",
              "3        HP              0     14       Corei3    8          256   \n",
              "4    Lenovo        IdeaPad   15.6       Corei3    8            0   \n",
              "..      ...            ...    ...          ...  ...          ...   \n",
              "780  Lenovo              0   15.6  Corei3-6100  256          256   \n",
              "781    ASUS              0   15.6    AMDRyzen7   16          512   \n",
              "782      HP             HP     14       Corei3  256          256   \n",
              "783  Lenovo       Thinkpad   13.3    AMDRyzen7    8            0   \n",
              "784    ASUS              0   15.6      ASeries  256          256   \n",
              "\n",
              "                      gpu  operatingsys      price  \n",
              "0                       0     Windows11   51990.00  \n",
              "1        IntelUHDGraphics     Windows11   32990.00  \n",
              "2     IntelIrisXeGraphics     Windows11   60990.00  \n",
              "3                       0     Windows11   36990.00  \n",
              "4        IntelUHDGraphics     Windows11   33446.00  \n",
              "..                    ...           ...        ...  \n",
              "780                     0     Windows10    1195.00  \n",
              "781  NVIDIAGeForceRTX2060     Windows10  133663.00  \n",
              "782    IntelHDGraphics620     Windows10   78105.00  \n",
              "783      AMDRadeonRXVega8  Windows10Pro  148918.00  \n",
              "784           AMDRadeonR7     Windows10        NaN  \n",
              "\n",
              "[609 rows x 9 columns]"
            ],
            "text/html": [
              "\n",
              "  <div id=\"df-6fe61fe5-0807-4d54-8bb7-e247ac360786\">\n",
              "    <div class=\"colab-df-container\">\n",
              "      <div>\n",
              "<style scoped>\n",
              "    .dataframe tbody tr th:only-of-type {\n",
              "        vertical-align: middle;\n",
              "    }\n",
              "\n",
              "    .dataframe tbody tr th {\n",
              "        vertical-align: top;\n",
              "    }\n",
              "\n",
              "    .dataframe thead th {\n",
              "        text-align: right;\n",
              "    }\n",
              "</style>\n",
              "<table border=\"1\" class=\"dataframe\">\n",
              "  <thead>\n",
              "    <tr style=\"text-align: right;\">\n",
              "      <th></th>\n",
              "      <th>Brand</th>\n",
              "      <th>type</th>\n",
              "      <th>inches</th>\n",
              "      <th>cpu</th>\n",
              "      <th>ram</th>\n",
              "      <th>harddisksize</th>\n",
              "      <th>gpu</th>\n",
              "      <th>operatingsys</th>\n",
              "      <th>price</th>\n",
              "    </tr>\n",
              "  </thead>\n",
              "  <tbody>\n",
              "    <tr>\n",
              "      <th>0</th>\n",
              "      <td>Lenovo</td>\n",
              "      <td>IdeaPadGaming</td>\n",
              "      <td>15.6</td>\n",
              "      <td>Ryzen5</td>\n",
              "      <td>8</td>\n",
              "      <td>512</td>\n",
              "      <td>0</td>\n",
              "      <td>Windows11</td>\n",
              "      <td>51990.00</td>\n",
              "    </tr>\n",
              "    <tr>\n",
              "      <th>1</th>\n",
              "      <td>Acer</td>\n",
              "      <td>Extensa</td>\n",
              "      <td>15.6</td>\n",
              "      <td>Corei3</td>\n",
              "      <td>8</td>\n",
              "      <td>0</td>\n",
              "      <td>IntelUHDGraphics</td>\n",
              "      <td>Windows11</td>\n",
              "      <td>32990.00</td>\n",
              "    </tr>\n",
              "    <tr>\n",
              "      <th>2</th>\n",
              "      <td>Lenovo</td>\n",
              "      <td>IdeaPad</td>\n",
              "      <td>15.6</td>\n",
              "      <td>Corei5</td>\n",
              "      <td>16</td>\n",
              "      <td>0</td>\n",
              "      <td>IntelIrisXeGraphics</td>\n",
              "      <td>Windows11</td>\n",
              "      <td>60990.00</td>\n",
              "    </tr>\n",
              "    <tr>\n",
              "      <th>3</th>\n",
              "      <td>HP</td>\n",
              "      <td>0</td>\n",
              "      <td>14</td>\n",
              "      <td>Corei3</td>\n",
              "      <td>8</td>\n",
              "      <td>256</td>\n",
              "      <td>0</td>\n",
              "      <td>Windows11</td>\n",
              "      <td>36990.00</td>\n",
              "    </tr>\n",
              "    <tr>\n",
              "      <th>4</th>\n",
              "      <td>Lenovo</td>\n",
              "      <td>IdeaPad</td>\n",
              "      <td>15.6</td>\n",
              "      <td>Corei3</td>\n",
              "      <td>8</td>\n",
              "      <td>0</td>\n",
              "      <td>IntelUHDGraphics</td>\n",
              "      <td>Windows11</td>\n",
              "      <td>33446.00</td>\n",
              "    </tr>\n",
              "    <tr>\n",
              "      <th>...</th>\n",
              "      <td>...</td>\n",
              "      <td>...</td>\n",
              "      <td>...</td>\n",
              "      <td>...</td>\n",
              "      <td>...</td>\n",
              "      <td>...</td>\n",
              "      <td>...</td>\n",
              "      <td>...</td>\n",
              "      <td>...</td>\n",
              "    </tr>\n",
              "    <tr>\n",
              "      <th>780</th>\n",
              "      <td>Lenovo</td>\n",
              "      <td>0</td>\n",
              "      <td>15.6</td>\n",
              "      <td>Corei3-6100</td>\n",
              "      <td>256</td>\n",
              "      <td>256</td>\n",
              "      <td>0</td>\n",
              "      <td>Windows10</td>\n",
              "      <td>1195.00</td>\n",
              "    </tr>\n",
              "    <tr>\n",
              "      <th>781</th>\n",
              "      <td>ASUS</td>\n",
              "      <td>0</td>\n",
              "      <td>15.6</td>\n",
              "      <td>AMDRyzen7</td>\n",
              "      <td>16</td>\n",
              "      <td>512</td>\n",
              "      <td>NVIDIAGeForceRTX2060</td>\n",
              "      <td>Windows10</td>\n",
              "      <td>133663.00</td>\n",
              "    </tr>\n",
              "    <tr>\n",
              "      <th>782</th>\n",
              "      <td>HP</td>\n",
              "      <td>HP</td>\n",
              "      <td>14</td>\n",
              "      <td>Corei3</td>\n",
              "      <td>256</td>\n",
              "      <td>256</td>\n",
              "      <td>IntelHDGraphics620</td>\n",
              "      <td>Windows10</td>\n",
              "      <td>78105.00</td>\n",
              "    </tr>\n",
              "    <tr>\n",
              "      <th>783</th>\n",
              "      <td>Lenovo</td>\n",
              "      <td>Thinkpad</td>\n",
              "      <td>13.3</td>\n",
              "      <td>AMDRyzen7</td>\n",
              "      <td>8</td>\n",
              "      <td>0</td>\n",
              "      <td>AMDRadeonRXVega8</td>\n",
              "      <td>Windows10Pro</td>\n",
              "      <td>148918.00</td>\n",
              "    </tr>\n",
              "    <tr>\n",
              "      <th>784</th>\n",
              "      <td>ASUS</td>\n",
              "      <td>0</td>\n",
              "      <td>15.6</td>\n",
              "      <td>ASeries</td>\n",
              "      <td>256</td>\n",
              "      <td>256</td>\n",
              "      <td>AMDRadeonR7</td>\n",
              "      <td>Windows10</td>\n",
              "      <td>NaN</td>\n",
              "    </tr>\n",
              "  </tbody>\n",
              "</table>\n",
              "<p>609 rows × 9 columns</p>\n",
              "</div>\n",
              "      <button class=\"colab-df-convert\" onclick=\"convertToInteractive('df-6fe61fe5-0807-4d54-8bb7-e247ac360786')\"\n",
              "              title=\"Convert this dataframe to an interactive table.\"\n",
              "              style=\"display:none;\">\n",
              "        \n",
              "  <svg xmlns=\"http://www.w3.org/2000/svg\" height=\"24px\"viewBox=\"0 0 24 24\"\n",
              "       width=\"24px\">\n",
              "    <path d=\"M0 0h24v24H0V0z\" fill=\"none\"/>\n",
              "    <path d=\"M18.56 5.44l.94 2.06.94-2.06 2.06-.94-2.06-.94-.94-2.06-.94 2.06-2.06.94zm-11 1L8.5 8.5l.94-2.06 2.06-.94-2.06-.94L8.5 2.5l-.94 2.06-2.06.94zm10 10l.94 2.06.94-2.06 2.06-.94-2.06-.94-.94-2.06-.94 2.06-2.06.94z\"/><path d=\"M17.41 7.96l-1.37-1.37c-.4-.4-.92-.59-1.43-.59-.52 0-1.04.2-1.43.59L10.3 9.45l-7.72 7.72c-.78.78-.78 2.05 0 2.83L4 21.41c.39.39.9.59 1.41.59.51 0 1.02-.2 1.41-.59l7.78-7.78 2.81-2.81c.8-.78.8-2.07 0-2.86zM5.41 20L4 18.59l7.72-7.72 1.47 1.35L5.41 20z\"/>\n",
              "  </svg>\n",
              "      </button>\n",
              "      \n",
              "  <style>\n",
              "    .colab-df-container {\n",
              "      display:flex;\n",
              "      flex-wrap:wrap;\n",
              "      gap: 12px;\n",
              "    }\n",
              "\n",
              "    .colab-df-convert {\n",
              "      background-color: #E8F0FE;\n",
              "      border: none;\n",
              "      border-radius: 50%;\n",
              "      cursor: pointer;\n",
              "      display: none;\n",
              "      fill: #1967D2;\n",
              "      height: 32px;\n",
              "      padding: 0 0 0 0;\n",
              "      width: 32px;\n",
              "    }\n",
              "\n",
              "    .colab-df-convert:hover {\n",
              "      background-color: #E2EBFA;\n",
              "      box-shadow: 0px 1px 2px rgba(60, 64, 67, 0.3), 0px 1px 3px 1px rgba(60, 64, 67, 0.15);\n",
              "      fill: #174EA6;\n",
              "    }\n",
              "\n",
              "    [theme=dark] .colab-df-convert {\n",
              "      background-color: #3B4455;\n",
              "      fill: #D2E3FC;\n",
              "    }\n",
              "\n",
              "    [theme=dark] .colab-df-convert:hover {\n",
              "      background-color: #434B5C;\n",
              "      box-shadow: 0px 1px 3px 1px rgba(0, 0, 0, 0.15);\n",
              "      filter: drop-shadow(0px 1px 2px rgba(0, 0, 0, 0.3));\n",
              "      fill: #FFFFFF;\n",
              "    }\n",
              "  </style>\n",
              "\n",
              "      <script>\n",
              "        const buttonEl =\n",
              "          document.querySelector('#df-6fe61fe5-0807-4d54-8bb7-e247ac360786 button.colab-df-convert');\n",
              "        buttonEl.style.display =\n",
              "          google.colab.kernel.accessAllowed ? 'block' : 'none';\n",
              "\n",
              "        async function convertToInteractive(key) {\n",
              "          const element = document.querySelector('#df-6fe61fe5-0807-4d54-8bb7-e247ac360786');\n",
              "          const dataTable =\n",
              "            await google.colab.kernel.invokeFunction('convertToInteractive',\n",
              "                                                     [key], {});\n",
              "          if (!dataTable) return;\n",
              "\n",
              "          const docLinkHtml = 'Like what you see? Visit the ' +\n",
              "            '<a target=\"_blank\" href=https://colab.research.google.com/notebooks/data_table.ipynb>data table notebook</a>'\n",
              "            + ' to learn more about interactive tables.';\n",
              "          element.innerHTML = '';\n",
              "          dataTable['output_type'] = 'display_data';\n",
              "          await google.colab.output.renderOutput(dataTable, element);\n",
              "          const docLink = document.createElement('div');\n",
              "          docLink.innerHTML = docLinkHtml;\n",
              "          element.appendChild(docLink);\n",
              "        }\n",
              "      </script>\n",
              "    </div>\n",
              "  </div>\n",
              "  "
            ]
          },
          "metadata": {},
          "execution_count": 495
        }
      ]
    },
    {
      "cell_type": "code",
      "source": [
        "data['Brand'] = data['Brand'].astype(\"string\")\n",
        "data['type'] = data['type'].astype(\"string\")\n",
        "data['inches'] = data['inches'].astype(float)\n",
        "data['cpu'] = data['cpu'].astype(\"string\")\n",
        "data['ram'] = data['ram'].astype(float)\n",
        "data['harddisksize'] = data['harddisksize'].astype(float)\n",
        "data['gpu'] = data['gpu'].astype(\"string\")\n",
        "data['operatingsys'] = data['operatingsys'].astype(\"string\")\n",
        "data['price'] = data['price'].astype(float)\n",
        "data.info()"
      ],
      "metadata": {
        "colab": {
          "base_uri": "https://localhost:8080/"
        },
        "id": "oXXIzskF7q3S",
        "outputId": "98e41560-6b94-456a-c015-fd87de07b78d"
      },
      "execution_count": 496,
      "outputs": [
        {
          "output_type": "stream",
          "name": "stdout",
          "text": [
            "<class 'pandas.core.frame.DataFrame'>\n",
            "Int64Index: 609 entries, 0 to 784\n",
            "Data columns (total 9 columns):\n",
            " #   Column        Non-Null Count  Dtype  \n",
            "---  ------        --------------  -----  \n",
            " 0   Brand         609 non-null    string \n",
            " 1   type          609 non-null    string \n",
            " 2   inches        604 non-null    float64\n",
            " 3   cpu           609 non-null    string \n",
            " 4   ram           587 non-null    float64\n",
            " 5   harddisksize  609 non-null    float64\n",
            " 6   gpu           609 non-null    string \n",
            " 7   operatingsys  609 non-null    string \n",
            " 8   price         593 non-null    float64\n",
            "dtypes: float64(4), string(5)\n",
            "memory usage: 47.6 KB\n"
          ]
        }
      ]
    },
    {
      "cell_type": "code",
      "source": [
        "def remove_words(s):\n",
        "    return re.sub(r'\\d+\\s*[A-Z]+[\\d]*\\s*', '', s)\n",
        "\n",
        "# Apply the function to the 'Text' column\n",
        "data['type'] = data['type'].apply(remove_words)\n"
      ],
      "metadata": {
        "id": "mfxSKtOTA9kC"
      },
      "execution_count": 497,
      "outputs": []
    },
    {
      "cell_type": "code",
      "source": [
        "data.iloc[:]\n"
      ],
      "metadata": {
        "colab": {
          "base_uri": "https://localhost:8080/",
          "height": 423
        },
        "id": "0J2FesSQB6l7",
        "outputId": "7baf94cb-a72b-41d9-93be-e1835e6ba0ce"
      },
      "execution_count": 498,
      "outputs": [
        {
          "output_type": "execute_result",
          "data": {
            "text/plain": [
              "      Brand           type  inches          cpu    ram  harddisksize  \\\n",
              "0    Lenovo  IdeaPadGaming    15.6       Ryzen5    8.0         512.0   \n",
              "1      Acer        Extensa    15.6       Corei3    8.0           0.0   \n",
              "2    Lenovo        IdeaPad    15.6       Corei5   16.0           0.0   \n",
              "3        HP              0    14.0       Corei3    8.0         256.0   \n",
              "4    Lenovo        IdeaPad    15.6       Corei3    8.0           0.0   \n",
              "..      ...            ...     ...          ...    ...           ...   \n",
              "780  Lenovo              0    15.6  Corei3-6100  256.0         256.0   \n",
              "781    ASUS              0    15.6    AMDRyzen7   16.0         512.0   \n",
              "782      HP             HP    14.0       Corei3  256.0         256.0   \n",
              "783  Lenovo       Thinkpad    13.3    AMDRyzen7    8.0           0.0   \n",
              "784    ASUS              0    15.6      ASeries  256.0         256.0   \n",
              "\n",
              "                      gpu  operatingsys     price  \n",
              "0                       0     Windows11   51990.0  \n",
              "1        IntelUHDGraphics     Windows11   32990.0  \n",
              "2     IntelIrisXeGraphics     Windows11   60990.0  \n",
              "3                       0     Windows11   36990.0  \n",
              "4        IntelUHDGraphics     Windows11   33446.0  \n",
              "..                    ...           ...       ...  \n",
              "780                     0     Windows10    1195.0  \n",
              "781  NVIDIAGeForceRTX2060     Windows10  133663.0  \n",
              "782    IntelHDGraphics620     Windows10   78105.0  \n",
              "783      AMDRadeonRXVega8  Windows10Pro  148918.0  \n",
              "784           AMDRadeonR7     Windows10       NaN  \n",
              "\n",
              "[609 rows x 9 columns]"
            ],
            "text/html": [
              "\n",
              "  <div id=\"df-847c5f2a-e2f4-461e-a794-2366430a5734\">\n",
              "    <div class=\"colab-df-container\">\n",
              "      <div>\n",
              "<style scoped>\n",
              "    .dataframe tbody tr th:only-of-type {\n",
              "        vertical-align: middle;\n",
              "    }\n",
              "\n",
              "    .dataframe tbody tr th {\n",
              "        vertical-align: top;\n",
              "    }\n",
              "\n",
              "    .dataframe thead th {\n",
              "        text-align: right;\n",
              "    }\n",
              "</style>\n",
              "<table border=\"1\" class=\"dataframe\">\n",
              "  <thead>\n",
              "    <tr style=\"text-align: right;\">\n",
              "      <th></th>\n",
              "      <th>Brand</th>\n",
              "      <th>type</th>\n",
              "      <th>inches</th>\n",
              "      <th>cpu</th>\n",
              "      <th>ram</th>\n",
              "      <th>harddisksize</th>\n",
              "      <th>gpu</th>\n",
              "      <th>operatingsys</th>\n",
              "      <th>price</th>\n",
              "    </tr>\n",
              "  </thead>\n",
              "  <tbody>\n",
              "    <tr>\n",
              "      <th>0</th>\n",
              "      <td>Lenovo</td>\n",
              "      <td>IdeaPadGaming</td>\n",
              "      <td>15.6</td>\n",
              "      <td>Ryzen5</td>\n",
              "      <td>8.0</td>\n",
              "      <td>512.0</td>\n",
              "      <td>0</td>\n",
              "      <td>Windows11</td>\n",
              "      <td>51990.0</td>\n",
              "    </tr>\n",
              "    <tr>\n",
              "      <th>1</th>\n",
              "      <td>Acer</td>\n",
              "      <td>Extensa</td>\n",
              "      <td>15.6</td>\n",
              "      <td>Corei3</td>\n",
              "      <td>8.0</td>\n",
              "      <td>0.0</td>\n",
              "      <td>IntelUHDGraphics</td>\n",
              "      <td>Windows11</td>\n",
              "      <td>32990.0</td>\n",
              "    </tr>\n",
              "    <tr>\n",
              "      <th>2</th>\n",
              "      <td>Lenovo</td>\n",
              "      <td>IdeaPad</td>\n",
              "      <td>15.6</td>\n",
              "      <td>Corei5</td>\n",
              "      <td>16.0</td>\n",
              "      <td>0.0</td>\n",
              "      <td>IntelIrisXeGraphics</td>\n",
              "      <td>Windows11</td>\n",
              "      <td>60990.0</td>\n",
              "    </tr>\n",
              "    <tr>\n",
              "      <th>3</th>\n",
              "      <td>HP</td>\n",
              "      <td>0</td>\n",
              "      <td>14.0</td>\n",
              "      <td>Corei3</td>\n",
              "      <td>8.0</td>\n",
              "      <td>256.0</td>\n",
              "      <td>0</td>\n",
              "      <td>Windows11</td>\n",
              "      <td>36990.0</td>\n",
              "    </tr>\n",
              "    <tr>\n",
              "      <th>4</th>\n",
              "      <td>Lenovo</td>\n",
              "      <td>IdeaPad</td>\n",
              "      <td>15.6</td>\n",
              "      <td>Corei3</td>\n",
              "      <td>8.0</td>\n",
              "      <td>0.0</td>\n",
              "      <td>IntelUHDGraphics</td>\n",
              "      <td>Windows11</td>\n",
              "      <td>33446.0</td>\n",
              "    </tr>\n",
              "    <tr>\n",
              "      <th>...</th>\n",
              "      <td>...</td>\n",
              "      <td>...</td>\n",
              "      <td>...</td>\n",
              "      <td>...</td>\n",
              "      <td>...</td>\n",
              "      <td>...</td>\n",
              "      <td>...</td>\n",
              "      <td>...</td>\n",
              "      <td>...</td>\n",
              "    </tr>\n",
              "    <tr>\n",
              "      <th>780</th>\n",
              "      <td>Lenovo</td>\n",
              "      <td>0</td>\n",
              "      <td>15.6</td>\n",
              "      <td>Corei3-6100</td>\n",
              "      <td>256.0</td>\n",
              "      <td>256.0</td>\n",
              "      <td>0</td>\n",
              "      <td>Windows10</td>\n",
              "      <td>1195.0</td>\n",
              "    </tr>\n",
              "    <tr>\n",
              "      <th>781</th>\n",
              "      <td>ASUS</td>\n",
              "      <td>0</td>\n",
              "      <td>15.6</td>\n",
              "      <td>AMDRyzen7</td>\n",
              "      <td>16.0</td>\n",
              "      <td>512.0</td>\n",
              "      <td>NVIDIAGeForceRTX2060</td>\n",
              "      <td>Windows10</td>\n",
              "      <td>133663.0</td>\n",
              "    </tr>\n",
              "    <tr>\n",
              "      <th>782</th>\n",
              "      <td>HP</td>\n",
              "      <td>HP</td>\n",
              "      <td>14.0</td>\n",
              "      <td>Corei3</td>\n",
              "      <td>256.0</td>\n",
              "      <td>256.0</td>\n",
              "      <td>IntelHDGraphics620</td>\n",
              "      <td>Windows10</td>\n",
              "      <td>78105.0</td>\n",
              "    </tr>\n",
              "    <tr>\n",
              "      <th>783</th>\n",
              "      <td>Lenovo</td>\n",
              "      <td>Thinkpad</td>\n",
              "      <td>13.3</td>\n",
              "      <td>AMDRyzen7</td>\n",
              "      <td>8.0</td>\n",
              "      <td>0.0</td>\n",
              "      <td>AMDRadeonRXVega8</td>\n",
              "      <td>Windows10Pro</td>\n",
              "      <td>148918.0</td>\n",
              "    </tr>\n",
              "    <tr>\n",
              "      <th>784</th>\n",
              "      <td>ASUS</td>\n",
              "      <td>0</td>\n",
              "      <td>15.6</td>\n",
              "      <td>ASeries</td>\n",
              "      <td>256.0</td>\n",
              "      <td>256.0</td>\n",
              "      <td>AMDRadeonR7</td>\n",
              "      <td>Windows10</td>\n",
              "      <td>NaN</td>\n",
              "    </tr>\n",
              "  </tbody>\n",
              "</table>\n",
              "<p>609 rows × 9 columns</p>\n",
              "</div>\n",
              "      <button class=\"colab-df-convert\" onclick=\"convertToInteractive('df-847c5f2a-e2f4-461e-a794-2366430a5734')\"\n",
              "              title=\"Convert this dataframe to an interactive table.\"\n",
              "              style=\"display:none;\">\n",
              "        \n",
              "  <svg xmlns=\"http://www.w3.org/2000/svg\" height=\"24px\"viewBox=\"0 0 24 24\"\n",
              "       width=\"24px\">\n",
              "    <path d=\"M0 0h24v24H0V0z\" fill=\"none\"/>\n",
              "    <path d=\"M18.56 5.44l.94 2.06.94-2.06 2.06-.94-2.06-.94-.94-2.06-.94 2.06-2.06.94zm-11 1L8.5 8.5l.94-2.06 2.06-.94-2.06-.94L8.5 2.5l-.94 2.06-2.06.94zm10 10l.94 2.06.94-2.06 2.06-.94-2.06-.94-.94-2.06-.94 2.06-2.06.94z\"/><path d=\"M17.41 7.96l-1.37-1.37c-.4-.4-.92-.59-1.43-.59-.52 0-1.04.2-1.43.59L10.3 9.45l-7.72 7.72c-.78.78-.78 2.05 0 2.83L4 21.41c.39.39.9.59 1.41.59.51 0 1.02-.2 1.41-.59l7.78-7.78 2.81-2.81c.8-.78.8-2.07 0-2.86zM5.41 20L4 18.59l7.72-7.72 1.47 1.35L5.41 20z\"/>\n",
              "  </svg>\n",
              "      </button>\n",
              "      \n",
              "  <style>\n",
              "    .colab-df-container {\n",
              "      display:flex;\n",
              "      flex-wrap:wrap;\n",
              "      gap: 12px;\n",
              "    }\n",
              "\n",
              "    .colab-df-convert {\n",
              "      background-color: #E8F0FE;\n",
              "      border: none;\n",
              "      border-radius: 50%;\n",
              "      cursor: pointer;\n",
              "      display: none;\n",
              "      fill: #1967D2;\n",
              "      height: 32px;\n",
              "      padding: 0 0 0 0;\n",
              "      width: 32px;\n",
              "    }\n",
              "\n",
              "    .colab-df-convert:hover {\n",
              "      background-color: #E2EBFA;\n",
              "      box-shadow: 0px 1px 2px rgba(60, 64, 67, 0.3), 0px 1px 3px 1px rgba(60, 64, 67, 0.15);\n",
              "      fill: #174EA6;\n",
              "    }\n",
              "\n",
              "    [theme=dark] .colab-df-convert {\n",
              "      background-color: #3B4455;\n",
              "      fill: #D2E3FC;\n",
              "    }\n",
              "\n",
              "    [theme=dark] .colab-df-convert:hover {\n",
              "      background-color: #434B5C;\n",
              "      box-shadow: 0px 1px 3px 1px rgba(0, 0, 0, 0.15);\n",
              "      filter: drop-shadow(0px 1px 2px rgba(0, 0, 0, 0.3));\n",
              "      fill: #FFFFFF;\n",
              "    }\n",
              "  </style>\n",
              "\n",
              "      <script>\n",
              "        const buttonEl =\n",
              "          document.querySelector('#df-847c5f2a-e2f4-461e-a794-2366430a5734 button.colab-df-convert');\n",
              "        buttonEl.style.display =\n",
              "          google.colab.kernel.accessAllowed ? 'block' : 'none';\n",
              "\n",
              "        async function convertToInteractive(key) {\n",
              "          const element = document.querySelector('#df-847c5f2a-e2f4-461e-a794-2366430a5734');\n",
              "          const dataTable =\n",
              "            await google.colab.kernel.invokeFunction('convertToInteractive',\n",
              "                                                     [key], {});\n",
              "          if (!dataTable) return;\n",
              "\n",
              "          const docLinkHtml = 'Like what you see? Visit the ' +\n",
              "            '<a target=\"_blank\" href=https://colab.research.google.com/notebooks/data_table.ipynb>data table notebook</a>'\n",
              "            + ' to learn more about interactive tables.';\n",
              "          element.innerHTML = '';\n",
              "          dataTable['output_type'] = 'display_data';\n",
              "          await google.colab.output.renderOutput(dataTable, element);\n",
              "          const docLink = document.createElement('div');\n",
              "          docLink.innerHTML = docLinkHtml;\n",
              "          element.appendChild(docLink);\n",
              "        }\n",
              "      </script>\n",
              "    </div>\n",
              "  </div>\n",
              "  "
            ]
          },
          "metadata": {},
          "execution_count": 498
        }
      ]
    },
    {
      "cell_type": "code",
      "source": [
        "sns.boxplot(data['price'])"
      ],
      "metadata": {
        "colab": {
          "base_uri": "https://localhost:8080/",
          "height": 282
        },
        "id": "A8mFj2vdDFNK",
        "outputId": "06d3429a-0401-4957-a29d-d4e81d645f4f"
      },
      "execution_count": 499,
      "outputs": [
        {
          "output_type": "execute_result",
          "data": {
            "text/plain": [
              "<Axes: >"
            ]
          },
          "metadata": {},
          "execution_count": 499
        },
        {
          "output_type": "display_data",
          "data": {
            "text/plain": [
              "<Figure size 432x288 with 1 Axes>"
            ],
            "image/png": "[encoded data removed]"
          },
          "metadata": {
            "needs_background": "light"
          }
        }
      ]
    },
    {
      "cell_type": "code",
      "source": [
        "sns.displot(data['price'])"
      ],
      "metadata": {
        "colab": {
          "base_uri": "https://localhost:8080/",
          "height": 386
        },
        "id": "akhOq9-UN4A5",
        "outputId": "5a601faf-cc14-4d86-f0c5-b86b700f5a99"
      },
      "execution_count": 500,
      "outputs": [
        {
          "output_type": "execute_result",
          "data": {
            "text/plain": [
              "<seaborn.axisgrid.FacetGrid at 0x7f0ac23af7c0>"
            ]
          },
          "metadata": {},
          "execution_count": 500
        },
        {
          "output_type": "display_data",
          "data": {
            "text/plain": [
              "<Figure size 360x360 with 1 Axes>"
            ],
            "image/png": "[encoded data removed]"
          },
          "metadata": {
            "needs_background": "light"
          }
        }
      ]
    },
    {
      "cell_type": "code",
      "source": [
        "data['Brand'].value_counts().plot(kind='bar')"
      ],
      "metadata": {
        "colab": {
          "base_uri": "https://localhost:8080/",
          "height": 308
        },
        "id": "mEoy-_qEVHoD",
        "outputId": "02abea0c-c117-4c00-9264-092b8ceb0c47"
      },
      "execution_count": 501,
      "outputs": [
        {
          "output_type": "execute_result",
          "data": {
            "text/plain": [
              "<Axes: >"
            ]
          },
          "metadata": {},
          "execution_count": 501
        },
        {
          "output_type": "display_data",
          "data": {
            "text/plain": [
              "<Figure size 432x288 with 1 Axes>"
            ],
            "image/png": "[encoded data removed]"
          },
          "metadata": {
            "needs_background": "light"
          }
        }
      ]
    },
    {
      "cell_type": "code",
      "source": [
        "plt.figure(figsize=[20,5])\n",
        "sns.barplot(x=data['Brand'],y=data['price'])"
      ],
      "metadata": {
        "colab": {
          "base_uri": "https://localhost:8080/",
          "height": 351
        },
        "id": "25KKrhMAVacY",
        "outputId": "7fc5c7f1-e389-407c-98f3-4a58001c3c72"
      },
      "execution_count": 502,
      "outputs": [
        {
          "output_type": "execute_result",
          "data": {
            "text/plain": [
              "<Axes: xlabel='Brand', ylabel='price'>"
            ]
          },
          "metadata": {},
          "execution_count": 502
        },
        {
          "output_type": "display_data",
          "data": {
            "text/plain": [
              "<Figure size 1440x360 with 1 Axes>"
            ],
            "image/png": "[encoded data removed]"
          },
          "metadata": {
            "needs_background": "light"
          }
        }
      ]
    },
    {
      "cell_type": "code",
      "source": [
        "plt.figure(figsize=[20,5])\n",
        "data['type'].value_counts().plot(kind='bar')"
      ],
      "metadata": {
        "colab": {
          "base_uri": "https://localhost:8080/",
          "height": 453
        },
        "id": "crj-mrxZX95t",
        "outputId": "ac5909ad-aad9-412d-948f-7104da2f581c"
      },
      "execution_count": 503,
      "outputs": [
        {
          "output_type": "execute_result",
          "data": {
            "text/plain": [
              "<Axes: >"
            ]
          },
          "metadata": {},
          "execution_count": 503
        },
        {
          "output_type": "display_data",
          "data": {
            "text/plain": [
              "<Figure size 1440x360 with 1 Axes>"
            ],
            "image/png": "[encoded data removed]"
          },
          "metadata": {
            "needs_background": "light"
          }
        }
      ]
    },
    {
      "cell_type": "code",
      "source": [
        "sns.displot(data['inches'])"
      ],
      "metadata": {
        "id": "65wXGxNkRJ4c",
        "colab": {
          "base_uri": "https://localhost:8080/",
          "height": 386
        },
        "outputId": "7be36279-1c2f-4137-ef87-2bc41d614d5d"
      },
      "execution_count": 504,
      "outputs": [
        {
          "output_type": "execute_result",
          "data": {
            "text/plain": [
              "<seaborn.axisgrid.FacetGrid at 0x7f0ac6ea64c0>"
            ]
          },
          "metadata": {},
          "execution_count": 504
        },
        {
          "output_type": "display_data",
          "data": {
            "text/plain": [
              "<Figure size 360x360 with 1 Axes>"
            ],
            "image/png": "[encoded data removed]"
          },
          "metadata": {
            "needs_background": "light"
          }
        }
      ]
    },
    {
      "cell_type": "code",
      "source": [
        "plt.figure(figsize = [8,5])\n",
        "sns.scatterplot(x=data['inches'],y=data['price'])"
      ],
      "metadata": {
        "colab": {
          "base_uri": "https://localhost:8080/",
          "height": 351
        },
        "id": "5PCaYRYyCGxs",
        "outputId": "42cdf728-d02d-41a4-d13e-cdf102088a19"
      },
      "execution_count": 505,
      "outputs": [
        {
          "output_type": "execute_result",
          "data": {
            "text/plain": [
              "<Axes: xlabel='inches', ylabel='price'>"
            ]
          },
          "metadata": {},
          "execution_count": 505
        },
        {
          "output_type": "display_data",
          "data": {
            "text/plain": [
              "<Figure size 576x360 with 1 Axes>"
            ],
            "image/png": "[encoded data removed]"
          },
          "metadata": {
            "needs_background": "light"
          }
        }
      ]
    },
    {
      "cell_type": "code",
      "source": [
        "def fetch_cpu(text):\n",
        "  if text=='Corei5' or text ==\"Corei3\" or text==\"Corei7\":\n",
        "    return text\n",
        "  else:\n",
        "    if text.split()[0]=='Intel':\n",
        "      return 'Other Intel Processor'\n",
        "    else:\n",
        "      return \"AMD Processor\""
      ],
      "metadata": {
        "id": "dgujA7CXHkDQ"
      },
      "execution_count": 506,
      "outputs": []
    },
    {
      "cell_type": "code",
      "source": [
        "data['cpu brand']=data['cpu'].apply(fetch_cpu)"
      ],
      "metadata": {
        "id": "BAE-NJ-0IhkR"
      },
      "execution_count": 507,
      "outputs": []
    },
    {
      "cell_type": "code",
      "source": [
        "data['cpu brand'].value_counts().plot(kind='bar')"
      ],
      "metadata": {
        "colab": {
          "base_uri": "https://localhost:8080/",
          "height": 347
        },
        "id": "S2NbdL8UDiZ3",
        "outputId": "63fac1c7-4c3c-4c0b-f647-3306cee29df3"
      },
      "execution_count": 508,
      "outputs": [
        {
          "output_type": "execute_result",
          "data": {
            "text/plain": [
              "<Axes: >"
            ]
          },
          "metadata": {},
          "execution_count": 508
        },
        {
          "output_type": "display_data",
          "data": {
            "text/plain": [
              "<Figure size 432x288 with 1 Axes>"
            ],
            "image/png": "[encoded data removed]"
          },
          "metadata": {
            "needs_background": "light"
          }
        }
      ]
    },
    {
      "cell_type": "code",
      "source": [
        "sns.barplot(x=data['cpu brand'],y=data['price'])"
      ],
      "metadata": {
        "colab": {
          "base_uri": "https://localhost:8080/",
          "height": 296
        },
        "id": "_PgMftL6_axR",
        "outputId": "2e27c6c1-b53c-4d05-ca00-c30113cf5735"
      },
      "execution_count": 509,
      "outputs": [
        {
          "output_type": "execute_result",
          "data": {
            "text/plain": [
              "<Axes: xlabel='cpu brand', ylabel='price'>"
            ]
          },
          "metadata": {},
          "execution_count": 509
        },
        {
          "output_type": "display_data",
          "data": {
            "text/plain": [
              "<Figure size 432x288 with 1 Axes>"
            ],
            "image/png": "[encoded data removed]"
          },
          "metadata": {
            "needs_background": "light"
          }
        }
      ]
    },
    {
      "cell_type": "code",
      "source": [
        "for i, gpu_name in enumerate(data['gpu']):\n",
        "    if gpu_name.lower().startswith(\"intel\"):\n",
        "        data.at[i, 'gpu brand'] = \"Intel\"\n",
        "    elif gpu_name.lower().startswith(\"amd\"):\n",
        "        data.at[i, 'gpu brand'] = \"AMD\"\n",
        "    elif gpu_name.lower().startswith(\"nvidia\"):\n",
        "        data.at[i, 'gpu brand'] = \"NVIDIA\"\n",
        "\n",
        "\n",
        "\n"
      ],
      "metadata": {
        "id": "-K3f3zvT_oRT"
      },
      "execution_count": 510,
      "outputs": []
    },
    {
      "cell_type": "code",
      "source": [
        "data['gpu brand'].value_counts()"
      ],
      "metadata": {
        "colab": {
          "base_uri": "https://localhost:8080/"
        },
        "id": "YXdq-2PkGtVz",
        "outputId": "1d14da56-5701-4d1a-c083-a4858b16d016"
      },
      "execution_count": 511,
      "outputs": [
        {
          "output_type": "execute_result",
          "data": {
            "text/plain": [
              "Intel     206\n",
              "NVIDIA     53\n",
              "AMD        30\n",
              "Name: gpu brand, dtype: int64"
            ]
          },
          "metadata": {},
          "execution_count": 511
        }
      ]
    },
    {
      "cell_type": "code",
      "source": [
        "sns.barplot(x=data['gpu brand'],y=data['price'])"
      ],
      "metadata": {
        "colab": {
          "base_uri": "https://localhost:8080/",
          "height": 296
        },
        "id": "bduIamDNIY6x",
        "outputId": "ca31ec2c-47f3-45df-ebe3-94e8b1f86f67"
      },
      "execution_count": 512,
      "outputs": [
        {
          "output_type": "execute_result",
          "data": {
            "text/plain": [
              "<Axes: xlabel='gpu brand', ylabel='price'>"
            ]
          },
          "metadata": {},
          "execution_count": 512
        },
        {
          "output_type": "display_data",
          "data": {
            "text/plain": [
              "<Figure size 432x288 with 1 Axes>"
            ],
            "image/png": "[encoded data removed]"
          },
          "metadata": {
            "needs_background": "light"
          }
        }
      ]
    },
    {
      "cell_type": "code",
      "source": [
        "data=data.dropna()\n",
        "data"
      ],
      "metadata": {
        "colab": {
          "base_uri": "https://localhost:8080/",
          "height": 423
        },
        "id": "VDCdkLxvjZ0j",
        "outputId": "a863f4c1-6bd5-4a6d-cc53-17334802ad2c"
      },
      "execution_count": 513,
      "outputs": [
        {
          "output_type": "execute_result",
          "data": {
            "text/plain": [
              "      Brand       type  inches          cpu   ram  harddisksize  \\\n",
              "1      Acer    Extensa    15.6       Corei3   8.0           0.0   \n",
              "2    Lenovo    IdeaPad    15.6       Corei5  16.0           0.0   \n",
              "4    Lenovo    IdeaPad    15.6       Corei3   8.0           0.0   \n",
              "6      ASUS   VivoBook    16.0       Ryzen5   8.0         512.0   \n",
              "9        HP          0    39.6       Athlon   8.0         512.0   \n",
              "..      ...        ...     ...          ...   ...           ...   \n",
              "602    ASUS          0    15.6            0   8.0           0.0   \n",
              "603  Lenovo     Legion    15.6  Ryzen54600H   8.0           1.0   \n",
              "605      HP  EliteBook    14.0       Corei5   4.0           0.0   \n",
              "607  Lenovo          0    15.6       Corei5  16.0           0.0   \n",
              "608  Lenovo   Thinkpad    15.6  IntelCorei9  32.0           1.0   \n",
              "\n",
              "                     gpu  operatingsys     price      cpu brand gpu brand  \n",
              "1       IntelUHDGraphics     Windows11   32990.0         Corei3     Intel  \n",
              "2    IntelIrisXeGraphics     Windows11   60990.0         Corei5     Intel  \n",
              "4       IntelUHDGraphics     Windows11   33446.0         Corei3     Intel  \n",
              "6                      0     Windows11   46990.0  AMD Processor     Intel  \n",
              "9                      0     Windows11   29212.0  AMD Processor     Intel  \n",
              "..                   ...           ...       ...            ...       ...  \n",
              "602                    0     Windows10   65990.0  AMD Processor       AMD  \n",
              "603                    0     Windows10   43992.0  AMD Processor     Intel  \n",
              "605                    0  Windows10Pro   37999.0         Corei5    NVIDIA  \n",
              "607                    0             0   61970.0         Corei5       AMD  \n",
              "608                    0  Windows10Pro  259500.0  AMD Processor       AMD  \n",
              "\n",
              "[211 rows x 11 columns]"
            ],
            "text/html": [
              "\n",
              "  <div id=\"df-d8b51095-eb78-4b5e-b5d9-ae02389c119d\">\n",
              "    <div class=\"colab-df-container\">\n",
              "      <div>\n",
              "<style scoped>\n",
              "    .dataframe tbody tr th:only-of-type {\n",
              "        vertical-align: middle;\n",
              "    }\n",
              "\n",
              "    .dataframe tbody tr th {\n",
              "        vertical-align: top;\n",
              "    }\n",
              "\n",
              "    .dataframe thead th {\n",
              "        text-align: right;\n",
              "    }\n",
              "</style>\n",
              "<table border=\"1\" class=\"dataframe\">\n",
              "  <thead>\n",
              "    <tr style=\"text-align: right;\">\n",
              "      <th></th>\n",
              "      <th>Brand</th>\n",
              "      <th>type</th>\n",
              "      <th>inches</th>\n",
              "      <th>cpu</th>\n",
              "      <th>ram</th>\n",
              "      <th>harddisksize</th>\n",
              "      <th>gpu</th>\n",
              "      <th>operatingsys</th>\n",
              "      <th>price</th>\n",
              "      <th>cpu brand</th>\n",
              "      <th>gpu brand</th>\n",
              "    </tr>\n",
              "  </thead>\n",
              "  <tbody>\n",
              "    <tr>\n",
              "      <th>1</th>\n",
              "      <td>Acer</td>\n",
              "      <td>Extensa</td>\n",
              "      <td>15.6</td>\n",
              "      <td>Corei3</td>\n",
              "      <td>8.0</td>\n",
              "      <td>0.0</td>\n",
              "      <td>IntelUHDGraphics</td>\n",
              "      <td>Windows11</td>\n",
              "      <td>32990.0</td>\n",
              "      <td>Corei3</td>\n",
              "      <td>Intel</td>\n",
              "    </tr>\n",
              "    <tr>\n",
              "      <th>2</th>\n",
              "      <td>Lenovo</td>\n",
              "      <td>IdeaPad</td>\n",
              "      <td>15.6</td>\n",
              "      <td>Corei5</td>\n",
              "      <td>16.0</td>\n",
              "      <td>0.0</td>\n",
              "      <td>IntelIrisXeGraphics</td>\n",
              "      <td>Windows11</td>\n",
              "      <td>60990.0</td>\n",
              "      <td>Corei5</td>\n",
              "      <td>Intel</td>\n",
              "    </tr>\n",
              "    <tr>\n",
              "      <th>4</th>\n",
              "      <td>Lenovo</td>\n",
              "      <td>IdeaPad</td>\n",
              "      <td>15.6</td>\n",
              "      <td>Corei3</td>\n",
              "      <td>8.0</td>\n",
              "      <td>0.0</td>\n",
              "      <td>IntelUHDGraphics</td>\n",
              "      <td>Windows11</td>\n",
              "      <td>33446.0</td>\n",
              "      <td>Corei3</td>\n",
              "      <td>Intel</td>\n",
              "    </tr>\n",
              "    <tr>\n",
              "      <th>6</th>\n",
              "      <td>ASUS</td>\n",
              "      <td>VivoBook</td>\n",
              "      <td>16.0</td>\n",
              "      <td>Ryzen5</td>\n",
              "      <td>8.0</td>\n",
              "      <td>512.0</td>\n",
              "      <td>0</td>\n",
              "      <td>Windows11</td>\n",
              "      <td>46990.0</td>\n",
              "      <td>AMD Processor</td>\n",
              "      <td>Intel</td>\n",
              "    </tr>\n",
              "    <tr>\n",
              "      <th>9</th>\n",
              "      <td>HP</td>\n",
              "      <td>0</td>\n",
              "      <td>39.6</td>\n",
              "      <td>Athlon</td>\n",
              "      <td>8.0</td>\n",
              "      <td>512.0</td>\n",
              "      <td>0</td>\n",
              "      <td>Windows11</td>\n",
              "      <td>29212.0</td>\n",
              "      <td>AMD Processor</td>\n",
              "      <td>Intel</td>\n",
              "    </tr>\n",
              "    <tr>\n",
              "      <th>...</th>\n",
              "      <td>...</td>\n",
              "      <td>...</td>\n",
              "      <td>...</td>\n",
              "      <td>...</td>\n",
              "      <td>...</td>\n",
              "      <td>...</td>\n",
              "      <td>...</td>\n",
              "      <td>...</td>\n",
              "      <td>...</td>\n",
              "      <td>...</td>\n",
              "      <td>...</td>\n",
              "    </tr>\n",
              "    <tr>\n",
              "      <th>602</th>\n",
              "      <td>ASUS</td>\n",
              "      <td>0</td>\n",
              "      <td>15.6</td>\n",
              "      <td>0</td>\n",
              "      <td>8.0</td>\n",
              "      <td>0.0</td>\n",
              "      <td>0</td>\n",
              "      <td>Windows10</td>\n",
              "      <td>65990.0</td>\n",
              "      <td>AMD Processor</td>\n",
              "      <td>AMD</td>\n",
              "    </tr>\n",
              "    <tr>\n",
              "      <th>603</th>\n",
              "      <td>Lenovo</td>\n",
              "      <td>Legion</td>\n",
              "      <td>15.6</td>\n",
              "      <td>Ryzen54600H</td>\n",
              "      <td>8.0</td>\n",
              "      <td>1.0</td>\n",
              "      <td>0</td>\n",
              "      <td>Windows10</td>\n",
              "      <td>43992.0</td>\n",
              "      <td>AMD Processor</td>\n",
              "      <td>Intel</td>\n",
              "    </tr>\n",
              "    <tr>\n",
              "      <th>605</th>\n",
              "      <td>HP</td>\n",
              "      <td>EliteBook</td>\n",
              "      <td>14.0</td>\n",
              "      <td>Corei5</td>\n",
              "      <td>4.0</td>\n",
              "      <td>0.0</td>\n",
              "      <td>0</td>\n",
              "      <td>Windows10Pro</td>\n",
              "      <td>37999.0</td>\n",
              "      <td>Corei5</td>\n",
              "      <td>NVIDIA</td>\n",
              "    </tr>\n",
              "    <tr>\n",
              "      <th>607</th>\n",
              "      <td>Lenovo</td>\n",
              "      <td>0</td>\n",
              "      <td>15.6</td>\n",
              "      <td>Corei5</td>\n",
              "      <td>16.0</td>\n",
              "      <td>0.0</td>\n",
              "      <td>0</td>\n",
              "      <td>0</td>\n",
              "      <td>61970.0</td>\n",
              "      <td>Corei5</td>\n",
              "      <td>AMD</td>\n",
              "    </tr>\n",
              "    <tr>\n",
              "      <th>608</th>\n",
              "      <td>Lenovo</td>\n",
              "      <td>Thinkpad</td>\n",
              "      <td>15.6</td>\n",
              "      <td>IntelCorei9</td>\n",
              "      <td>32.0</td>\n",
              "      <td>1.0</td>\n",
              "      <td>0</td>\n",
              "      <td>Windows10Pro</td>\n",
              "      <td>259500.0</td>\n",
              "      <td>AMD Processor</td>\n",
              "      <td>AMD</td>\n",
              "    </tr>\n",
              "  </tbody>\n",
              "</table>\n",
              "<p>211 rows × 11 columns</p>\n",
              "</div>\n",
              "      <button class=\"colab-df-convert\" onclick=\"convertToInteractive('df-d8b51095-eb78-4b5e-b5d9-ae02389c119d')\"\n",
              "              title=\"Convert this dataframe to an interactive table.\"\n",
              "              style=\"display:none;\">\n",
              "        \n",
              "  <svg xmlns=\"http://www.w3.org/2000/svg\" height=\"24px\"viewBox=\"0 0 24 24\"\n",
              "       width=\"24px\">\n",
              "    <path d=\"M0 0h24v24H0V0z\" fill=\"none\"/>\n",
              "    <path d=\"M18.56 5.44l.94 2.06.94-2.06 2.06-.94-2.06-.94-.94-2.06-.94 2.06-2.06.94zm-11 1L8.5 8.5l.94-2.06 2.06-.94-2.06-.94L8.5 2.5l-.94 2.06-2.06.94zm10 10l.94 2.06.94-2.06 2.06-.94-2.06-.94-.94-2.06-.94 2.06-2.06.94z\"/><path d=\"M17.41 7.96l-1.37-1.37c-.4-.4-.92-.59-1.43-.59-.52 0-1.04.2-1.43.59L10.3 9.45l-7.72 7.72c-.78.78-.78 2.05 0 2.83L4 21.41c.39.39.9.59 1.41.59.51 0 1.02-.2 1.41-.59l7.78-7.78 2.81-2.81c.8-.78.8-2.07 0-2.86zM5.41 20L4 18.59l7.72-7.72 1.47 1.35L5.41 20z\"/>\n",
              "  </svg>\n",
              "      </button>\n",
              "      \n",
              "  <style>\n",
              "    .colab-df-container {\n",
              "      display:flex;\n",
              "      flex-wrap:wrap;\n",
              "      gap: 12px;\n",
              "    }\n",
              "\n",
              "    .colab-df-convert {\n",
              "      background-color: #E8F0FE;\n",
              "      border: none;\n",
              "      border-radius: 50%;\n",
              "      cursor: pointer;\n",
              "      display: none;\n",
              "      fill: #1967D2;\n",
              "      height: 32px;\n",
              "      padding: 0 0 0 0;\n",
              "      width: 32px;\n",
              "    }\n",
              "\n",
              "    .colab-df-convert:hover {\n",
              "      background-color: #E2EBFA;\n",
              "      box-shadow: 0px 1px 2px rgba(60, 64, 67, 0.3), 0px 1px 3px 1px rgba(60, 64, 67, 0.15);\n",
              "      fill: #174EA6;\n",
              "    }\n",
              "\n",
              "    [theme=dark] .colab-df-convert {\n",
              "      background-color: #3B4455;\n",
              "      fill: #D2E3FC;\n",
              "    }\n",
              "\n",
              "    [theme=dark] .colab-df-convert:hover {\n",
              "      background-color: #434B5C;\n",
              "      box-shadow: 0px 1px 3px 1px rgba(0, 0, 0, 0.15);\n",
              "      filter: drop-shadow(0px 1px 2px rgba(0, 0, 0, 0.3));\n",
              "      fill: #FFFFFF;\n",
              "    }\n",
              "  </style>\n",
              "\n",
              "      <script>\n",
              "        const buttonEl =\n",
              "          document.querySelector('#df-d8b51095-eb78-4b5e-b5d9-ae02389c119d button.colab-df-convert');\n",
              "        buttonEl.style.display =\n",
              "          google.colab.kernel.accessAllowed ? 'block' : 'none';\n",
              "\n",
              "        async function convertToInteractive(key) {\n",
              "          const element = document.querySelector('#df-d8b51095-eb78-4b5e-b5d9-ae02389c119d');\n",
              "          const dataTable =\n",
              "            await google.colab.kernel.invokeFunction('convertToInteractive',\n",
              "                                                     [key], {});\n",
              "          if (!dataTable) return;\n",
              "\n",
              "          const docLinkHtml = 'Like what you see? Visit the ' +\n",
              "            '<a target=\"_blank\" href=https://colab.research.google.com/notebooks/data_table.ipynb>data table notebook</a>'\n",
              "            + ' to learn more about interactive tables.';\n",
              "          element.innerHTML = '';\n",
              "          dataTable['output_type'] = 'display_data';\n",
              "          await google.colab.output.renderOutput(dataTable, element);\n",
              "          const docLink = document.createElement('div');\n",
              "          docLink.innerHTML = docLinkHtml;\n",
              "          element.appendChild(docLink);\n",
              "        }\n",
              "      </script>\n",
              "    </div>\n",
              "  </div>\n",
              "  "
            ]
          },
          "metadata": {},
          "execution_count": 513
        }
      ]
    },
    {
      "cell_type": "code",
      "source": [
        "from sklearn.linear_model import LinearRegression,Ridge,Lasso\n",
        "from sklearn.neighbors import KNeighborsRegressor\n",
        "from sklearn.tree import DecisionTreeRegressor\n",
        "from sklearn.ensemble import RandomForestRegressor,GradientBoostingRegressor,AdaBoostRegressor,ExtraTreesRegressor\n",
        "from sklearn.svm import SVR\n",
        "from xgboost import XGBRegressor\n",
        "\n",
        "from sklearn.compose import ColumnTransformer\n",
        "from sklearn.pipeline import Pipeline\n",
        "from sklearn.preprocessing import OneHotEncoder\n",
        "from sklearn.metrics import r2_score,mean_absolute_error"
      ],
      "metadata": {
        "id": "A563r3LvOaJU"
      },
      "execution_count": 514,
      "outputs": []
    },
    {
      "cell_type": "code",
      "source": [
        "data=data.drop(columns=['cpu','gpu'])\n",
        "data"
      ],
      "metadata": {
        "id": "v3w6mTAektr1",
        "colab": {
          "base_uri": "https://localhost:8080/",
          "height": 423
        },
        "outputId": "c38c78f3-3f9d-4d68-c88f-d24b795db1bc"
      },
      "execution_count": 515,
      "outputs": [
        {
          "output_type": "execute_result",
          "data": {
            "text/plain": [
              "      Brand       type  inches   ram  harddisksize  operatingsys     price  \\\n",
              "1      Acer    Extensa    15.6   8.0           0.0     Windows11   32990.0   \n",
              "2    Lenovo    IdeaPad    15.6  16.0           0.0     Windows11   60990.0   \n",
              "4    Lenovo    IdeaPad    15.6   8.0           0.0     Windows11   33446.0   \n",
              "6      ASUS   VivoBook    16.0   8.0         512.0     Windows11   46990.0   \n",
              "9        HP          0    39.6   8.0         512.0     Windows11   29212.0   \n",
              "..      ...        ...     ...   ...           ...           ...       ...   \n",
              "602    ASUS          0    15.6   8.0           0.0     Windows10   65990.0   \n",
              "603  Lenovo     Legion    15.6   8.0           1.0     Windows10   43992.0   \n",
              "605      HP  EliteBook    14.0   4.0           0.0  Windows10Pro   37999.0   \n",
              "607  Lenovo          0    15.6  16.0           0.0             0   61970.0   \n",
              "608  Lenovo   Thinkpad    15.6  32.0           1.0  Windows10Pro  259500.0   \n",
              "\n",
              "         cpu brand gpu brand  \n",
              "1           Corei3     Intel  \n",
              "2           Corei5     Intel  \n",
              "4           Corei3     Intel  \n",
              "6    AMD Processor     Intel  \n",
              "9    AMD Processor     Intel  \n",
              "..             ...       ...  \n",
              "602  AMD Processor       AMD  \n",
              "603  AMD Processor     Intel  \n",
              "605         Corei5    NVIDIA  \n",
              "607         Corei5       AMD  \n",
              "608  AMD Processor       AMD  \n",
              "\n",
              "[211 rows x 9 columns]"
            ],
            "text/html": [
              "\n",
              "  <div id=\"df-dac76486-042f-4ea5-9c6f-5aacc2698d20\">\n",
              "    <div class=\"colab-df-container\">\n",
              "      <div>\n",
              "<style scoped>\n",
              "    .dataframe tbody tr th:only-of-type {\n",
              "        vertical-align: middle;\n",
              "    }\n",
              "\n",
              "    .dataframe tbody tr th {\n",
              "        vertical-align: top;\n",
              "    }\n",
              "\n",
              "    .dataframe thead th {\n",
              "        text-align: right;\n",
              "    }\n",
              "</style>\n",
              "<table border=\"1\" class=\"dataframe\">\n",
              "  <thead>\n",
              "    <tr style=\"text-align: right;\">\n",
              "      <th></th>\n",
              "      <th>Brand</th>\n",
              "      <th>type</th>\n",
              "      <th>inches</th>\n",
              "      <th>ram</th>\n",
              "      <th>harddisksize</th>\n",
              "      <th>operatingsys</th>\n",
              "      <th>price</th>\n",
              "      <th>cpu brand</th>\n",
              "      <th>gpu brand</th>\n",
              "    </tr>\n",
              "  </thead>\n",
              "  <tbody>\n",
              "    <tr>\n",
              "      <th>1</th>\n",
              "      <td>Acer</td>\n",
              "      <td>Extensa</td>\n",
              "      <td>15.6</td>\n",
              "      <td>8.0</td>\n",
              "      <td>0.0</td>\n",
              "      <td>Windows11</td>\n",
              "      <td>32990.0</td>\n",
              "      <td>Corei3</td>\n",
              "      <td>Intel</td>\n",
              "    </tr>\n",
              "    <tr>\n",
              "      <th>2</th>\n",
              "      <td>Lenovo</td>\n",
              "      <td>IdeaPad</td>\n",
              "      <td>15.6</td>\n",
              "      <td>16.0</td>\n",
              "      <td>0.0</td>\n",
              "      <td>Windows11</td>\n",
              "      <td>60990.0</td>\n",
              "      <td>Corei5</td>\n",
              "      <td>Intel</td>\n",
              "    </tr>\n",
              "    <tr>\n",
              "      <th>4</th>\n",
              "      <td>Lenovo</td>\n",
              "      <td>IdeaPad</td>\n",
              "      <td>15.6</td>\n",
              "      <td>8.0</td>\n",
              "      <td>0.0</td>\n",
              "      <td>Windows11</td>\n",
              "      <td>33446.0</td>\n",
              "      <td>Corei3</td>\n",
              "      <td>Intel</td>\n",
              "    </tr>\n",
              "    <tr>\n",
              "      <th>6</th>\n",
              "      <td>ASUS</td>\n",
              "      <td>VivoBook</td>\n",
              "      <td>16.0</td>\n",
              "      <td>8.0</td>\n",
              "      <td>512.0</td>\n",
              "      <td>Windows11</td>\n",
              "      <td>46990.0</td>\n",
              "      <td>AMD Processor</td>\n",
              "      <td>Intel</td>\n",
              "    </tr>\n",
              "    <tr>\n",
              "      <th>9</th>\n",
              "      <td>HP</td>\n",
              "      <td>0</td>\n",
              "      <td>39.6</td>\n",
              "      <td>8.0</td>\n",
              "      <td>512.0</td>\n",
              "      <td>Windows11</td>\n",
              "      <td>29212.0</td>\n",
              "      <td>AMD Processor</td>\n",
              "      <td>Intel</td>\n",
              "    </tr>\n",
              "    <tr>\n",
              "      <th>...</th>\n",
              "      <td>...</td>\n",
              "      <td>...</td>\n",
              "      <td>...</td>\n",
              "      <td>...</td>\n",
              "      <td>...</td>\n",
              "      <td>...</td>\n",
              "      <td>...</td>\n",
              "      <td>...</td>\n",
              "      <td>...</td>\n",
              "    </tr>\n",
              "    <tr>\n",
              "      <th>602</th>\n",
              "      <td>ASUS</td>\n",
              "      <td>0</td>\n",
              "      <td>15.6</td>\n",
              "      <td>8.0</td>\n",
              "      <td>0.0</td>\n",
              "      <td>Windows10</td>\n",
              "      <td>65990.0</td>\n",
              "      <td>AMD Processor</td>\n",
              "      <td>AMD</td>\n",
              "    </tr>\n",
              "    <tr>\n",
              "      <th>603</th>\n",
              "      <td>Lenovo</td>\n",
              "      <td>Legion</td>\n",
              "      <td>15.6</td>\n",
              "      <td>8.0</td>\n",
              "      <td>1.0</td>\n",
              "      <td>Windows10</td>\n",
              "      <td>43992.0</td>\n",
              "      <td>AMD Processor</td>\n",
              "      <td>Intel</td>\n",
              "    </tr>\n",
              "    <tr>\n",
              "      <th>605</th>\n",
              "      <td>HP</td>\n",
              "      <td>EliteBook</td>\n",
              "      <td>14.0</td>\n",
              "      <td>4.0</td>\n",
              "      <td>0.0</td>\n",
              "      <td>Windows10Pro</td>\n",
              "      <td>37999.0</td>\n",
              "      <td>Corei5</td>\n",
              "      <td>NVIDIA</td>\n",
              "    </tr>\n",
              "    <tr>\n",
              "      <th>607</th>\n",
              "      <td>Lenovo</td>\n",
              "      <td>0</td>\n",
              "      <td>15.6</td>\n",
              "      <td>16.0</td>\n",
              "      <td>0.0</td>\n",
              "      <td>0</td>\n",
              "      <td>61970.0</td>\n",
              "      <td>Corei5</td>\n",
              "      <td>AMD</td>\n",
              "    </tr>\n",
              "    <tr>\n",
              "      <th>608</th>\n",
              "      <td>Lenovo</td>\n",
              "      <td>Thinkpad</td>\n",
              "      <td>15.6</td>\n",
              "      <td>32.0</td>\n",
              "      <td>1.0</td>\n",
              "      <td>Windows10Pro</td>\n",
              "      <td>259500.0</td>\n",
              "      <td>AMD Processor</td>\n",
              "      <td>AMD</td>\n",
              "    </tr>\n",
              "  </tbody>\n",
              "</table>\n",
              "<p>211 rows × 9 columns</p>\n",
              "</div>\n",
              "      <button class=\"colab-df-convert\" onclick=\"convertToInteractive('df-dac76486-042f-4ea5-9c6f-5aacc2698d20')\"\n",
              "              title=\"Convert this dataframe to an interactive table.\"\n",
              "              style=\"display:none;\">\n",
              "        \n",
              "  <svg xmlns=\"http://www.w3.org/2000/svg\" height=\"24px\"viewBox=\"0 0 24 24\"\n",
              "       width=\"24px\">\n",
              "    <path d=\"M0 0h24v24H0V0z\" fill=\"none\"/>\n",
              "    <path d=\"M18.56 5.44l.94 2.06.94-2.06 2.06-.94-2.06-.94-.94-2.06-.94 2.06-2.06.94zm-11 1L8.5 8.5l.94-2.06 2.06-.94-2.06-.94L8.5 2.5l-.94 2.06-2.06.94zm10 10l.94 2.06.94-2.06 2.06-.94-2.06-.94-.94-2.06-.94 2.06-2.06.94z\"/><path d=\"M17.41 7.96l-1.37-1.37c-.4-.4-.92-.59-1.43-.59-.52 0-1.04.2-1.43.59L10.3 9.45l-7.72 7.72c-.78.78-.78 2.05 0 2.83L4 21.41c.39.39.9.59 1.41.59.51 0 1.02-.2 1.41-.59l7.78-7.78 2.81-2.81c.8-.78.8-2.07 0-2.86zM5.41 20L4 18.59l7.72-7.72 1.47 1.35L5.41 20z\"/>\n",
              "  </svg>\n",
              "      </button>\n",
              "      \n",
              "  <style>\n",
              "    .colab-df-container {\n",
              "      display:flex;\n",
              "      flex-wrap:wrap;\n",
              "      gap: 12px;\n",
              "    }\n",
              "\n",
              "    .colab-df-convert {\n",
              "      background-color: #E8F0FE;\n",
              "      border: none;\n",
              "      border-radius: 50%;\n",
              "      cursor: pointer;\n",
              "      display: none;\n",
              "      fill: #1967D2;\n",
              "      height: 32px;\n",
              "      padding: 0 0 0 0;\n",
              "      width: 32px;\n",
              "    }\n",
              "\n",
              "    .colab-df-convert:hover {\n",
              "      background-color: #E2EBFA;\n",
              "      box-shadow: 0px 1px 2px rgba(60, 64, 67, 0.3), 0px 1px 3px 1px rgba(60, 64, 67, 0.15);\n",
              "      fill: #174EA6;\n",
              "    }\n",
              "\n",
              "    [theme=dark] .colab-df-convert {\n",
              "      background-color: #3B4455;\n",
              "      fill: #D2E3FC;\n",
              "    }\n",
              "\n",
              "    [theme=dark] .colab-df-convert:hover {\n",
              "      background-color: #434B5C;\n",
              "      box-shadow: 0px 1px 3px 1px rgba(0, 0, 0, 0.15);\n",
              "      filter: drop-shadow(0px 1px 2px rgba(0, 0, 0, 0.3));\n",
              "      fill: #FFFFFF;\n",
              "    }\n",
              "  </style>\n",
              "\n",
              "      <script>\n",
              "        const buttonEl =\n",
              "          document.querySelector('#df-dac76486-042f-4ea5-9c6f-5aacc2698d20 button.colab-df-convert');\n",
              "        buttonEl.style.display =\n",
              "          google.colab.kernel.accessAllowed ? 'block' : 'none';\n",
              "\n",
              "        async function convertToInteractive(key) {\n",
              "          const element = document.querySelector('#df-dac76486-042f-4ea5-9c6f-5aacc2698d20');\n",
              "          const dataTable =\n",
              "            await google.colab.kernel.invokeFunction('convertToInteractive',\n",
              "                                                     [key], {});\n",
              "          if (!dataTable) return;\n",
              "\n",
              "          const docLinkHtml = 'Like what you see? Visit the ' +\n",
              "            '<a target=\"_blank\" href=https://colab.research.google.com/notebooks/data_table.ipynb>data table notebook</a>'\n",
              "            + ' to learn more about interactive tables.';\n",
              "          element.innerHTML = '';\n",
              "          dataTable['output_type'] = 'display_data';\n",
              "          await google.colab.output.renderOutput(dataTable, element);\n",
              "          const docLink = document.createElement('div');\n",
              "          docLink.innerHTML = docLinkHtml;\n",
              "          element.appendChild(docLink);\n",
              "        }\n",
              "      </script>\n",
              "    </div>\n",
              "  </div>\n",
              "  "
            ]
          },
          "metadata": {},
          "execution_count": 515
        }
      ]
    },
    {
      "cell_type": "code",
      "source": [
        "category_counts=data['type'].value_counts()\n",
        "data= data[data['type'].isin(category_counts[category_counts > 1].index)]"
      ],
      "metadata": {
        "id": "RNTOHW2Yykbt"
      },
      "execution_count": 516,
      "outputs": []
    },
    {
      "cell_type": "code",
      "source": [
        "X=data.drop(columns=['price'])\n",
        "y=np.log(data['price'])\n"
      ],
      "metadata": {
        "id": "O0B959lrTDCV"
      },
      "execution_count": 517,
      "outputs": []
    },
    {
      "cell_type": "code",
      "source": [
        "from sklearn.model_selection import train_test_split\n",
        "X_train,X_test,y_train,y_test=train_test_split(X,y,test_size=0.15,random_state=2)"
      ],
      "metadata": {
        "id": "F-D3XIg9OaF0"
      },
      "execution_count": 518,
      "outputs": []
    },
    {
      "cell_type": "markdown",
      "source": [
        "Linear Regression\n",
        "\n",
        "\n"
      ],
      "metadata": {
        "id": "nGE8NDSVUXAV"
      }
    },
    {
      "cell_type": "code",
      "source": [
        "step1 = ColumnTransformer(transformers=[\n",
        "    ('col_tnf',OneHotEncoder(sparse_output=False,drop='first'),[0,1,5,6,7])\n",
        "],remainder='passthrough')\n",
        "\n",
        "step2 = Lasso(alpha=0.001)\n",
        "\n",
        "\n",
        "pipe = Pipeline([\n",
        "    ('step1',step1),\n",
        "    ('step2',step2)\n",
        "])\n",
        "\n",
        "pipe.fit(X_train,y_train)\n",
        "\n",
        "y_pred = pipe.predict(X_test)\n",
        "\n",
        "print('R2 score',r2_score(y_test,y_pred))\n",
        "print('MAE',mean_absolute_error(y_test,y_pred))"
      ],
      "metadata": {
        "colab": {
          "base_uri": "https://localhost:8080/"
        },
        "id": "rHi0kaEPUbTJ",
        "outputId": "71c5bb28-4d7d-4077-f9b2-091b19e39a35"
      },
      "execution_count": 519,
      "outputs": [
        {
          "output_type": "stream",
          "name": "stdout",
          "text": [
            "R2 score 0.2268838491702625\n",
            "MAE 0.3469471433561701\n"
          ]
        }
      ]
    },
    {
      "cell_type": "markdown",
      "source": [
        "knn\n"
      ],
      "metadata": {
        "id": "7AQeu8NC089A"
      }
    },
    {
      "cell_type": "code",
      "source": [
        "step1 = ColumnTransformer(transformers=[\n",
        "    ('col_tnf',OneHotEncoder(sparse=False,drop='first'),[0,1,5,6,7])\n",
        "],remainder='passthrough')\n",
        "\n",
        "step2 = KNeighborsRegressor(n_neighbors=3)\n",
        "\n",
        "pipe = Pipeline([\n",
        "    ('step1',step1),\n",
        "    ('step2',step2)\n",
        "])\n",
        "\n",
        "pipe.fit(X_train,y_train)\n",
        "\n",
        "y_pred = pipe.predict(X_test)\n",
        "\n",
        "print('R2 score',r2_score(y_test,y_pred))\n",
        "print('MAE',mean_absolute_error(y_test,y_pred))"
      ],
      "metadata": {
        "colab": {
          "base_uri": "https://localhost:8080/"
        },
        "id": "FJkYmdxR0E3s",
        "outputId": "a91db2eb-6b49-41e9-9e02-a26c0d5c66cb"
      },
      "execution_count": 520,
      "outputs": [
        {
          "output_type": "stream",
          "name": "stdout",
          "text": [
            "R2 score 0.5798031524605742\n",
            "MAE 0.2918910357862969\n"
          ]
        },
        {
          "output_type": "stream",
          "name": "stderr",
          "text": [
            "/usr/local/lib/python3.9/dist-packages/sklearn/preprocessing/_encoders.py:868: FutureWarning: `sparse` was renamed to `sparse_output` in version 1.2 and will be removed in 1.4. `sparse_output` is ignored unless you leave `sparse` to its default value.\n",
            "  warnings.warn(\n"
          ]
        }
      ]
    },
    {
      "cell_type": "markdown",
      "source": [
        "Decisiontree"
      ],
      "metadata": {
        "id": "DC20MsOh0-tf"
      }
    },
    {
      "cell_type": "code",
      "source": [
        "step1 = ColumnTransformer(transformers=[\n",
        "    ('col_tnf',OneHotEncoder(sparse=False,drop='first'),[0,1,5,6,7])\n",
        "],remainder='passthrough')\n",
        "\n",
        "step2 = DecisionTreeRegressor(max_depth=8)\n",
        "\n",
        "pipe = Pipeline([\n",
        "    ('step1',step1),\n",
        "    ('step2',step2)\n",
        "])\n",
        "\n",
        "pipe.fit(X_train,y_train)\n",
        "\n",
        "y_pred = pipe.predict(X_test)\n",
        "\n",
        "print('R2 score',r2_score(y_test,y_pred))\n",
        "print('MAE',mean_absolute_error(y_test,y_pred))"
      ],
      "metadata": {
        "colab": {
          "base_uri": "https://localhost:8080/"
        },
        "id": "sV3Ln20z0K9p",
        "outputId": "bb6b1cbb-3a02-41a8-c871-30c067835adb"
      },
      "execution_count": 521,
      "outputs": [
        {
          "output_type": "stream",
          "name": "stdout",
          "text": [
            "R2 score 0.771535849369008\n",
            "MAE 0.2316073954007597\n"
          ]
        },
        {
          "output_type": "stream",
          "name": "stderr",
          "text": [
            "/usr/local/lib/python3.9/dist-packages/sklearn/preprocessing/_encoders.py:868: FutureWarning: `sparse` was renamed to `sparse_output` in version 1.2 and will be removed in 1.4. `sparse_output` is ignored unless you leave `sparse` to its default value.\n",
            "  warnings.warn(\n"
          ]
        }
      ]
    },
    {
      "cell_type": "markdown",
      "source": [
        "SVM"
      ],
      "metadata": {
        "id": "KdNSPVMe1DXM"
      }
    },
    {
      "cell_type": "code",
      "source": [
        "step1 = ColumnTransformer(transformers=[\n",
        "    ('col_tnf',OneHotEncoder(sparse=False,drop='first'),[0,1,5,6,7])\n",
        "],remainder='passthrough')\n",
        "\n",
        "step2 = SVR(kernel='rbf',C=10000,epsilon=0.1)\n",
        "\n",
        "pipe = Pipeline([\n",
        "    ('step1',step1),\n",
        "    ('step2',step2)\n",
        "])\n",
        "\n",
        "pipe.fit(X_train,y_train)\n",
        "\n",
        "y_pred = pipe.predict(X_test)\n",
        "\n",
        "print('R2 score',r2_score(y_test,y_pred))\n",
        "print('MAE',mean_absolute_error(y_test,y_pred))"
      ],
      "metadata": {
        "colab": {
          "base_uri": "https://localhost:8080/"
        },
        "id": "djvhz0Fo0Xxg",
        "outputId": "fbee4a5d-9352-4817-80f4-0eb71a964eef"
      },
      "execution_count": 522,
      "outputs": [
        {
          "output_type": "stream",
          "name": "stdout",
          "text": [
            "R2 score 0.5890594393717873\n",
            "MAE 0.26750019109196815\n"
          ]
        },
        {
          "output_type": "stream",
          "name": "stderr",
          "text": [
            "/usr/local/lib/python3.9/dist-packages/sklearn/preprocessing/_encoders.py:868: FutureWarning: `sparse` was renamed to `sparse_output` in version 1.2 and will be removed in 1.4. `sparse_output` is ignored unless you leave `sparse` to its default value.\n",
            "  warnings.warn(\n"
          ]
        }
      ]
    },
    {
      "cell_type": "markdown",
      "source": [
        "Randomforest"
      ],
      "metadata": {
        "id": "0Pc1z3BP1JFY"
      }
    },
    {
      "cell_type": "code",
      "source": [
        "step1 = ColumnTransformer(transformers=[\n",
        "    ('col_tnf',OneHotEncoder(sparse=False,drop='first'),[0,1,5,6,7])\n",
        "],remainder='passthrough')\n",
        "\n",
        "step2 = RandomForestRegressor(n_estimators=100,\n",
        "                              random_state=3,\n",
        "                              max_samples=0.5,\n",
        "                              max_features=0.75,\n",
        "                              max_depth=15)\n",
        "\n",
        "pipe = Pipeline([\n",
        "    ('step1',step1),\n",
        "    ('step2',step2)\n",
        "])\n",
        "\n",
        "pipe.fit(X_train,y_train)\n",
        "\n",
        "y_pred = pipe.predict(X_test)\n",
        "\n",
        "print('R2 score',r2_score(y_test,y_pred))\n",
        "print('MAE',mean_absolute_error(y_test,y_pred))"
      ],
      "metadata": {
        "colab": {
          "base_uri": "https://localhost:8080/"
        },
        "id": "9H67Bu2f0fBs",
        "outputId": "e93d40ff-31b1-4b90-faa6-605ed62d3a89"
      },
      "execution_count": 523,
      "outputs": [
        {
          "output_type": "stream",
          "name": "stderr",
          "text": [
            "/usr/local/lib/python3.9/dist-packages/sklearn/preprocessing/_encoders.py:868: FutureWarning: `sparse` was renamed to `sparse_output` in version 1.2 and will be removed in 1.4. `sparse_output` is ignored unless you leave `sparse` to its default value.\n",
            "  warnings.warn(\n"
          ]
        },
        {
          "output_type": "stream",
          "name": "stdout",
          "text": [
            "R2 score 0.5659255776045897\n",
            "MAE 0.2605679270647463\n"
          ]
        }
      ]
    },
    {
      "cell_type": "markdown",
      "source": [
        "stacking"
      ],
      "metadata": {
        "id": "H2vZUHD-1OkC"
      }
    },
    {
      "cell_type": "code",
      "source": [
        "from sklearn.ensemble import VotingRegressor,StackingRegressor\n",
        "\n",
        "step1 = ColumnTransformer(transformers=[\n",
        "    ('col_tnf',OneHotEncoder(sparse=False,drop='first'),[0,1,5,6,7])\n",
        "],remainder='passthrough')\n",
        "\n",
        "\n",
        "estimators = [\n",
        "    ('rf', RandomForestRegressor(n_estimators=350,random_state=3,max_samples=0.5,max_features=0.75,max_depth=15)),\n",
        "    ('gbdt',GradientBoostingRegressor(n_estimators=100,max_features=0.5)),\n",
        "    ('xgb', XGBRegressor(n_estimators=25,learning_rate=0.3,max_depth=5))\n",
        "]\n",
        "\n",
        "step2 = StackingRegressor(estimators=estimators, final_estimator=Ridge(alpha=100))\n",
        "\n",
        "pipe = Pipeline([\n",
        "    ('step1',step1),\n",
        "    ('step2',step2)\n",
        "])\n",
        "\n",
        "pipe.fit(X_train,y_train)\n",
        "\n",
        "y_pred = pipe.predict(X_test)\n",
        "\n",
        "print('R2 score',r2_score(y_test,y_pred))\n",
        "print('MAE',mean_absolute_error(y_test,y_pred))"
      ],
      "metadata": {
        "colab": {
          "base_uri": "https://localhost:8080/"
        },
        "id": "9EJQmBuP0iaj",
        "outputId": "a8de6f3c-557c-4e1a-c42e-2533b5737544"
      },
      "execution_count": 524,
      "outputs": [
        {
          "output_type": "stream",
          "name": "stderr",
          "text": [
            "/usr/local/lib/python3.9/dist-packages/sklearn/preprocessing/_encoders.py:868: FutureWarning: `sparse` was renamed to `sparse_output` in version 1.2 and will be removed in 1.4. `sparse_output` is ignored unless you leave `sparse` to its default value.\n",
            "  warnings.warn(\n"
          ]
        },
        {
          "output_type": "stream",
          "name": "stdout",
          "text": [
            "R2 score 0.3421709753416967\n",
            "MAE 0.3591985647433455\n"
          ]
        }
      ]
    }
  ]
}